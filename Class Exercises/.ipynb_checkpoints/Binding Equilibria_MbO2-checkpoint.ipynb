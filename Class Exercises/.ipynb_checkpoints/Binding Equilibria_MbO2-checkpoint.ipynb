{
 "cells": [
  {
   "cell_type": "markdown",
   "id": "0c761fca-03a0-4747-a8bf-4b0be81627e4",
   "metadata": {},
   "source": [
    "# In Class Exercise: Myoglobin Binding Equilibria"
   ]
  },
  {
   "cell_type": "markdown",
   "id": "eb46dcb7-819a-4d5b-a2f3-c7b6eb8d4e1c",
   "metadata": {
    "jp-MarkdownHeadingCollapsed": true
   },
   "source": [
    "## Myoglobin\n",
    "\n",
    "* [Myoglobin](https://en.wikipedia.org/wiki/Myoglobin) is an Iron-oxygen binding protein found in the muscle of most vertebrates. \n",
    "\n",
    "* High concentrations of myoblogin allows some animals to hold their breath for long periods of time.\n",
    "\n",
    "* In non-marine species, myoglobin may buffer diffusion limitation of oxygen during intense exercise. "
   ]
  },
  {
   "cell_type": "markdown",
   "id": "7ebd141d-7840-4847-be99-5d108d22d899",
   "metadata": {},
   "source": [
    "## The Model:\n",
    "\n",
    "**Equilibrium Expression**:\n",
    "   Assume that each molecule of myoglobin (Mb) can bind one oxygen molecule ($O_2$) to form an oxygenated myoglobin ($MbO_2$). The equilibrium expression for this binding can be written as:\n",
    "\n",
    "   $$\n",
    "   \\textcolor{BlueGreen}{\\text{Mb} + O_2 \\leftrightarrow \\text{MbO}_2}\n",
    "   $$"
   ]
  },
  {
   "cell_type": "markdown",
   "id": "0f155017-858d-49b9-be66-3f5213de8cc9",
   "metadata": {},
   "source": [
    "### Q1- State in your own words what this model is describing.\n",
    "\n",
    "Your answer here:"
   ]
  },
  {
   "cell_type": "markdown",
   "id": "4540e9d7-6c83-4aee-a8dc-853679a5949a",
   "metadata": {},
   "source": [
    "## The Law of Mass Action\n",
    "\n",
    "Recall from the law of mass action:  \n",
    "    $$\n",
    "   \\textcolor{BlueGreen}{\\text{A} + B \\leftrightarrow \\text{C}}\n",
    "   $$\n",
    "The law of mass action describes the association constant $k_a$ of reactants and products . \n",
    "\n",
    "  $$\n",
    "   \\textcolor{BlueGreen}{k_a = \\frac{[\\text{C}]}{[\\text{A}][B]} M^{-1}}\n",
    "   $$\n",
    "\n",
    "when the forward and reverse rate of reaction are equal $\\frac{k_1}{k_{-1}}=1$ the system is at equilibrium, or a non-equlibrium steady state in the case of some open systems.\n",
    "\n",
    "The association constant $k_a$ for this reaction can be defined as:\n",
    "\n",
    "   $$\n",
    "   \\textcolor{BlueGreen}{k_a = \\frac{[\\text{MbO}_2]}{[\\text{Mb}][O_2]} M^{-1}}\n",
    "   $$\n",
    "\n",
    "Rearranging gives the expression for the fraction of myoglobin that is oxygen-bound. Note that $[Mb]_{unbound}$ is the total myoglobin concentration in the system.\n",
    "\n",
    "   $$\n",
    "   \\textcolor{BlueGreen}{k_a [O_2] = \\frac{[\\text{MbO}_2]}{[\\text{Mb}]_{unbound}}}\n",
    "   $$\n",
    "\n",
    "Another way to think about this expression is: \n",
    "\n",
    "   $$\n",
    "   \\textcolor{BlueGreen}{k_a [O_2] = \\frac{[\\text{MbO}_2]}{[\\text{Mb}]_{unbound}} = \\frac{[Bound]}{[Unbound]}}\n",
    "   $$\n"
   ]
  },
  {
   "cell_type": "markdown",
   "id": "923dd32f-1cf9-4c30-86d0-597538dbca90",
   "metadata": {},
   "source": [
    "### Q2- State in your own words what 'Bound' over 'Unbound' is describing.\n",
    "\n",
    "Your answer here:"
   ]
  },
  {
   "cell_type": "markdown",
   "id": "d2b17fff-4e09-4a43-9753-89c469e22281",
   "metadata": {},
   "source": [
    "### Q3- Draw of cartoon diagram of what is happening in this model on scrap paper or on the dry erase board."
   ]
  },
  {
   "cell_type": "markdown",
   "id": "caaa1e79-15cb-45b2-a920-ffe545ed2ffd",
   "metadata": {},
   "source": [
    "## The binding ratio $\\theta$\n",
    "\n",
    "We can now define the following relationship:\n",
    "\n",
    "$$\n",
    "\\textcolor{BlueGreen}{\\theta=\\frac{\\text{binding sites occupied}}{\\text{total binding sites}}}\n",
    "$$\n",
    "\n",
    "We can rewrite this in the form: \n",
    "\n",
    "$$\n",
    "\\textcolor{BlueGreen}{\\theta=\\frac{\\text{MbO}_2}{\\text{MbO}_2 + \\text{Mb}_{unbound}}\\text{(Unitless b/c moles/L cancel out)}}\n",
    "$$\n",
    "\n",
    "Let's think about this intuitively... If we have a mixture of myoglobin in aqueous solution at room temperature in a beaker, some proportion of the myoglobin will be bound to oxygen and some will not. This is not so different from the autoionization of water that we learned about when discussing the pH scale...\n",
    "\n",
    "From our earlier equation, \n",
    "\n",
    "$$\n",
    "\\textcolor{BlueGreen}{\\text{MbO}_2=k_a[O_2][\\text{Mb}]_{unbound}}\n",
    "$$"
   ]
  },
  {
   "cell_type": "markdown",
   "id": "c6b7fa05-e4c0-48a7-9bb8-94c52a7fc70f",
   "metadata": {},
   "source": [
    "### State in your own words what this equation is describing.\n",
    "\n",
    "Your answer here:"
   ]
  },
  {
   "cell_type": "markdown",
   "id": "2465d33f-50f0-4e9a-ab46-982d9f9f140d",
   "metadata": {},
   "source": [
    "## Deriving the Hill Equation\n",
    "\n",
    "Returning to the equation $\\theta$ above, we can swap in our new expression for $\\text{MBO}_2$\n",
    "\n",
    "This gives us: \n",
    "$$\n",
    "\\textcolor{BlueGreen}{\\theta=\\frac{k_a[O_2][\\text{Mb}]_{unbound}}{k_a[O_2][\\text{Mb}]_{unbound} + [\\text{Mb}]_{unbound}}}\n",
    "$$\n",
    "\n",
    "Though this may look a bit complicated, it still means: \n",
    "$$\n",
    "\\textcolor{BlueGreen}{\\theta=\\frac{\\text{binding sites occupied}}{\\text{total binding sites}}}\n",
    "$$\n",
    "\n",
    "Factoring and rearranging $\\theta$ gives\n",
    "$$\n",
    "\\textcolor{BlueGreen}{\\theta=\\frac{[O_2]}{O_2+\\frac{1}{k_a}}}\n",
    "$$\n",
    "\n",
    "This expression is very close to a well-known mathematical expression known as the [Hill Equation](https://en.wikipedia.org/wiki/Hill_equation_(biochemistry))\n",
    "\n",
    "However, there is are two small modifications we must make before we've got the true Hill equation...\n",
    "\n",
    "First, we need to redifine the perspective of the equation to focus on `dissociation` of myoglobin and oxygen, rather than `association` as its described right now. \n",
    "\n",
    "To do this, we simply take the reciprocal of $\\frac{1}{k_a}$. Note: all this does is reorient the interprtation of $\\theta$ to represent $\\frac{\\text{Total binding sites}}{\\text{binding sites occupied}}$\n",
    "\n",
    "Additionally, we will generalize the equation to be able to deal with scenarios where there are more than one ligand binding at a time by adding the term $n$. This is also known as the `Hill Slope`. \n",
    "\n",
    "Here is the updated Hill equation for myoglobin, which has n = 1: \n",
    "$$\n",
    "\\textcolor{BlueGreen}{\\theta=\\frac{[O_2]^{n}}{[O_2]^{n}+{k_d}}}\n",
    "$$\n",
    "\n",
    "Notice that $n$ and $k_d$ are constants. So this equation reports how much of the total myoglobin is dissociated over a range of theoretical oxygen concentrations!!"
   ]
  },
  {
   "cell_type": "markdown",
   "id": "f4de1851-4829-435a-9426-ce2821226395",
   "metadata": {},
   "source": [
    "### Q4- Use the link to the wikipage above to very briefly summarize the Hill equation and its use in biochemistry in your own words.\n",
    "\n",
    "Your answer here:"
   ]
  },
  {
   "cell_type": "markdown",
   "id": "ceec9187-d801-4b8f-9965-ff0325465723",
   "metadata": {},
   "source": [
    "### Visualization using Matplotlib"
   ]
  },
  {
   "cell_type": "code",
   "execution_count": null,
   "id": "dd5fa837-8473-4471-9d7a-6b43173d32ff",
   "metadata": {},
   "outputs": [],
   "source": [
    "# Plot the hill equation solutions\n",
    "import numpy as np\n",
    "import matplotlib.pyplot as plt\n",
    "\n",
    "# Define the function to solve the Hill equation\n",
    "def hill_equation(O2_concentration, K_d, n):\n",
    "    \"\"\"Calculates the fraction of binding sites occupied, theta, using the Hill equation.\"\"\"\n",
    "    theta = (O2_concentration**n) / (K_d + O2_concentration**n)\n",
    "    return theta\n",
    "\n",
    "# Parameters\n",
    "K_d = 2.3  # The dissociation constant in mM O2; Note would need to be empirically determined\n",
    "n = 1      # Hill coefficient, for myoglobin this is typically 1 (also known as non-cooperative binding)\n",
    "\n",
    "# Define the x-axis: Oxygen concentration range from 0 to 10 mM\n",
    "O2_range = np.linspace(0, 20, 100)\n",
    "\n",
    "# Define the y-axis: Calculate theta for each O2 concentration using the Hill equation\n",
    "theta_values = hill_equation(O2_range, K_d, n)\n",
    "\n",
    "# Plotting\n",
    "plt.style.use('dark_background')\n",
    "plt.figure(figsize=(8, 5))\n",
    "plt.plot(O2_range, theta_values, label='Myoglobin Oxygen Binding', color='aquamarine')\n",
    "plt.xlabel('Oxygen Concentration [mM]')\n",
    "plt.ylabel('Fraction of Binding Sites Occupied ($\\\\theta$)')\n",
    "plt.title('Myoglobin Oxygen Binding Curve')\n",
    "plt.legend()\n",
    "plt.grid(True)\n",
    "plt.show()\n"
   ]
  },
  {
   "cell_type": "markdown",
   "id": "9dc251de-601a-4eac-bbdd-986115643ce5",
   "metadata": {},
   "source": [
    "### Q5- What is the relationship between $k_d$ and the O2 concentration at which the myoglobin proteins are 50% bound?\n",
    "\n",
    "Note: systematically increase and/or decrease $k_d$ and observe the oxygen concentration required to reach 50% bound myoglobin.\n",
    "\n",
    "Your answer here: "
   ]
  },
  {
   "cell_type": "markdown",
   "id": "b5085b7b-f232-43f3-bc31-f4cc6d437f0f",
   "metadata": {},
   "source": [
    "### Q6- What happends to the binding affinity at low oxygen concentrations when the n is increased?\n",
    "\n",
    "Your answer here: "
   ]
  }
 ],
 "metadata": {
  "kernelspec": {
   "display_name": "Python 3 (ipykernel)",
   "language": "python",
   "name": "python3"
  },
  "language_info": {
   "codemirror_mode": {
    "name": "ipython",
    "version": 3
   },
   "file_extension": ".py",
   "mimetype": "text/x-python",
   "name": "python",
   "nbconvert_exporter": "python",
   "pygments_lexer": "ipython3",
   "version": "3.11.10"
  }
 },
 "nbformat": 4,
 "nbformat_minor": 5
}
