{
 "cells": [
  {
   "cell_type": "markdown",
   "id": "982c34ae-9d4b-4b3c-bc55-01f36144192d",
   "metadata": {},
   "source": [
    "# Unit 1: Chemistry for Biochemists "
   ]
  },
  {
   "cell_type": "markdown",
   "id": "acee0b26-3d1f-46ed-8211-0cbc4c78bd96",
   "metadata": {},
   "source": [
    "## Biochemistry is a subset of chemistry\n",
    "\n",
    "* Just 11 elements make up 99.9% of all known biochemistry by mass.\n",
    "* Among these are hydrogen, carbon, oxygen, nitrogen, calcium, and phosphorus which make up 98.4% of the human body by mass.\n",
    "* Many other elements occur at much lower mass percentages and are known as `trace elements`. For example, potassium, sodium, magnesium, sulfur, and chlorine.\n",
    "* The chemistry that forms life extists under strong physical constraints.\n",
    "* Biochemists can emmulate many of these reactions in the laboratory, achieving rate enhancements and even producing new products. This is useful for building specialized materials, drugs, and various other technologies. "
   ]
  },
  {
   "cell_type": "markdown",
   "id": "130f86a7-f0a4-47ac-a84b-290eeb8ca832",
   "metadata": {},
   "source": [
    "## Atomic Structure and Bonding\n",
    "* The nuclei of atoms are composed of neutrons and protons in approximately the same number. The number of protons is the atomic number in the periodic table. The number of neutrons can be obtained by subtracting the atomic number from the atomic mass. Note, this isn't typically a whole number because the atomic mass is a weighted average of the element's isotopes.\n",
    "* Isotopes are elements that have the same number of protons, but different numbers of neutrons.\n",
    "* Electrons are attracted to the positively charged nucleus of an atom.\n",
    "* Electrons organize into a series of with successively higher energies and predictable shapes called orbitals.\n",
    "* Orbitals are different from orbits, like those of planets that behave like rigid body particles whose motion is dictated by gravitational forces.\n",
    "* Electrons behave like particles under some circumstances, but are more consistently described as a standing wave that surrounds the nucleus, like an atmosphere. They will never 'fall` into the nucleus as orbiting gravitational bodies might.\n",
    "* All elements in the periodic table are made of the same materials - protons, neutrons, and electrons, but in different combinations. The physical arrangement of these particles in different elements is a consequence of the balance of attractive and repulsive forces that the particles exert on one another. In principle, one could make new elements from the parts of other elements (this was the aim of alchemy in the early 20th century). In practice, this is very difficult to do. \n",
    "* Larger nuclei will attract more electrons. These electrons cannot occupy the same physical space, and will distort the `atmospheric shapes` of their neighbors in predictable ways.\n",
    "* Each energy level forms a `shell` described by the `principle quantum number` $n$. The number of electrons accomodated by a shell increases with the energy level (and distance from the nucleus). Electrons that occupy a shell will distort the positions of their neighbors. These positional distortions are described by other quantum numbers. The `angular momentum` $l$ determines the shape of `orbitals` the common shapes of electron wave functions within a shell. The `magnetic quantum number` $m_l$ determines the number of subshells within each orbital."
   ]
  },
  {
   "cell_type": "markdown",
   "id": "a54d7f47-6d8a-42fc-9685-0ff98c974e90",
   "metadata": {},
   "source": [
    "## Further Reading\n",
    "1. [Essential Chemistry for Biochemists](https://portlandpress.com/essaysbiochem/article/61/4/401/78233/Essential-chemistry-for-biochemists)"
   ]
  }
 ],
 "metadata": {
  "kernelspec": {
   "display_name": "Python 3 (ipykernel)",
   "language": "python",
   "name": "python3"
  },
  "language_info": {
   "codemirror_mode": {
    "name": "ipython",
    "version": 3
   },
   "file_extension": ".py",
   "mimetype": "text/x-python",
   "name": "python",
   "nbconvert_exporter": "python",
   "pygments_lexer": "ipython3",
   "version": "3.9.18"
  }
 },
 "nbformat": 4,
 "nbformat_minor": 5
}
