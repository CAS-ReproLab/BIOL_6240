{
 "cells": [
  {
   "cell_type": "markdown",
   "id": "c214cb2c-c552-4b31-b70e-1be98be3be00",
   "metadata": {},
   "source": [
    "# Lecture 1- Biochemistry from Geochemistry"
   ]
  },
  {
   "cell_type": "markdown",
   "id": "8dc1397d-2011-403d-a6dd-da3cc52c395e",
   "metadata": {},
   "source": [
    "## Is Life Inevitable?\n",
    "\n",
    "* Life is qualitatively different from other 'active' processes we might observe such as wall storms in a hurricane or a lightning strike.\n",
    "* These phenomena - a biological cell, a storm, and lightning - might seem to have nothing in common. However, they are all processes that are in thermodynamic disequilibrium, and that act as `relaxation channels` for energy flow and matter. \n",
    "* They form observable patterns that dissipate over time, and each instance of these phenomena is similar to, but not the same as, any other instance.\n",
    "* Hurricanes, lighting, and biological cells act as 'channels' for matter that coalesce as a consequence of electrical and thermal forces.\n",
    "* Life may have been an 'accident' of history with only one distinct origin that is unlikely to happen again. Alternatively, the commonality with the chemical and physical similarities between life, storms, and lightning implies that life may be a reproducible phenomenon that occurs as a consequence of regular geochemical change.\n",
    "* In other words, life may be something that happens `to` a planet, rather than something that happens `on` a planet... "
   ]
  },
  {
   "cell_type": "markdown",
   "id": "e8b20ac9-d6c6-4876-8010-6e814e1d376a",
   "metadata": {},
   "source": [
    "## Structure\n",
    "\n",
    "* The earth's primary source of heat is solar radiation that is scattered by the surface of the ocean. The energy is not 'concentrated' enough to drive chemical reactions.\n",
    "* However, a distinct chemical system, small light transducing proteins called rhodopsins and chlorophylls are capable of concentrating solar radiation to drive chemical reactions.\n",
    "* The first thing to appreciate about life on earth is its organization into metastable ecosystems in which organic molecules are self sufficiently 'recycled'. For example, animals exspire $CO_2$ and respire $O_2$ and plants fix $CO_2$ into glucose, while expiring $O_2$.\n",
    "* Ecosystems consists fundamentally of two types of organisms, autotrophs - fix organic molecules from environmental gases, powered by solar radiation, and heterotrophs - Oxidize organic molecules obtained by consuming autotrophs and other heterotrophs.\n",
    "* There is a core autotrophic metabolism that consists of less than 500 small molecules.\n",
    "* The metabolism can be broken down into two subcategories, catabolic reactions (neutral or oxidative), and anabolism (reductive).\n",
    "* Reductive anabolism essentially consumes electrons from 'high energy' bonds. It is possible for organisms to consist almost entirely of anabolic reactions (e.g., chemo-autotrophs).\n",
    "* Catabolism evolved in heterotrophs as a way to support anabolism from organic inputs.\n",
    "* Only the anabolic core of intermediry metabolism is truly universal, it is the 11 carboxylic acids of the Krebs cycle. In heterotrophs, the Krebs cycle catalyzes oxidative catabolism of organic molecules and produces $CO_2$, in autotrophs it runs in 'reverse' reducing $CO_2$ to produce organic acids. What we know as the 'forward' Krebs cycle should be called the 'reverse' cycle...\n",
    "* The rest of anabolic metabolism builds from the core set of metabolites. Adding ammonian and reductant (e.g., molecular hydrogen) builds many of the simpler amino acids (e.g., alanine) from the core Krebs cycle organic acids.\n",
    "* The 3 carbon carbohydrates and their 6 and 5 carbon derivatives (e.g., ribose) are derived from pyruvate.\n",
    "* The saturated fatty acids that form lipid membranes are derived from the recursive reduction of C-O bonds of acetate to C-H bonds.\n",
    "* More complex reaction schemes branch out from these core metabolic reactions into a complicated web forming nucleic acids, complex amino acids, cofactors, etc.\n",
    "* Anabolic reactions from $CO_2$ and a reductant are exergonic as a whole, but many of the intermediate reactions require coupled hydrolysis of phosphate polymers to make the net reaction energetically favorable. This likely has not always been in the form of ATP (e.g., inorganic polyphosphates), but largely is today.\n",
    "* The net cascade of metabolism acts as a `relaxation channel` for two sources of chemical energy: `electron transfer from reductants and hydrolysis of phosphates`. "
   ]
  },
  {
   "cell_type": "markdown",
   "id": "fd9875db-e66b-4eac-b9a5-ddf8b5093475",
   "metadata": {},
   "source": [
    "## Further Reading\n",
    "1. [Energy Flow and the Organization of Life](https://onlinelibrary.wiley.com/doi/pdf/10.1002/cplx.20191)"
   ]
  },
  {
   "cell_type": "code",
   "execution_count": null,
   "id": "7f232e1a-fb36-464a-a130-e3237d1651d2",
   "metadata": {},
   "outputs": [],
   "source": []
  }
 ],
 "metadata": {
  "kernelspec": {
   "display_name": "Python 3 (ipykernel)",
   "language": "python",
   "name": "python3"
  },
  "language_info": {
   "codemirror_mode": {
    "name": "ipython",
    "version": 3
   },
   "file_extension": ".py",
   "mimetype": "text/x-python",
   "name": "python",
   "nbconvert_exporter": "python",
   "pygments_lexer": "ipython3",
   "version": "3.9.18"
  }
 },
 "nbformat": 4,
 "nbformat_minor": 5
}
