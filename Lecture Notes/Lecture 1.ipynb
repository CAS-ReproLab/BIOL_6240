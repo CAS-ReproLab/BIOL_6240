{
 "cells": [
  {
   "cell_type": "markdown",
   "id": "c214cb2c-c552-4b31-b70e-1be98be3be00",
   "metadata": {},
   "source": [
    "# Lecture 1- Biochemistry from Geochemistry"
   ]
  },
  {
   "cell_type": "markdown",
   "id": "8dc1397d-2011-403d-a6dd-da3cc52c395e",
   "metadata": {},
   "source": [
    "## Is Life Inevitable?\n",
    "\n",
    "L1.1 Life 'traps' energy and prevents it, temporarily, from becoming heat. Other non-living systems do this as well, for example tornadoes - but cells, organisms, and ecosystems are qualitatevely different from tornadoes. Why? What makes them distinct? There is an apparent historical dependence of life, since as far as we know it hasn't 'started' from an inanimate system in the amount of time that we have been able to observe, and we haven't yet created it artificially. So, is it purely an accident of history? If so, is it a singular accident, or a rare accident? If it is a rare accident, if so, `how often is rare`? \n",
    "\n",
    "L1.2 If life may occur under potentially rare, but not singular circumstances, then the emergence of life reflects a particular category of physico-chemical phenomenon. It may be that life is a relatively common manifestation of specific conditions that occurs as a function of the geochemistry of planets. Other non-equlibrium phenomena, such as hurricanes and lightning are manifestations of matter being 'channeled' by forces into a path of least resistance. Electrical charge and heat can dissipate even in the absence of hurricanes or lightning, but under the right conditions, these forces shape matter into stable patterns. Weather patterns occur at a much larger scale compared with living systems, but they have in common non-equilibrium states in which electrical and diffusive forces channel matter into observable patterns.  \n",
    "\n",
    "L1.3 Solar radiation is scattered by the surface of the ocean and dissipated as heat. This effect heats the earth's surface, but does not concentrate sufficient energy to drive chemical reactions. Chlorophylls and rhodopsins, on the other hand, manage just such an effect. Stability and order of these biochemical systems seems to be the defining feature that sets them apart from their macroscopic counterparts. Energy flows may not be sufficient to create such order, but they do appear to be a general feature of earth's geochemistry. Perhaps life isn't something that happens `on` a planet, but rather, something that happens `to` a planet.  "
   ]
  },
  {
   "cell_type": "markdown",
   "id": "e8b20ac9-d6c6-4876-8010-6e814e1d376a",
   "metadata": {},
   "source": [
    "## "
   ]
  },
  {
   "cell_type": "markdown",
   "id": "fd9875db-e66b-4eac-b9a5-ddf8b5093475",
   "metadata": {},
   "source": [
    "## Further Reading\n",
    "1. [Energy Flow and the Organization of Life](https://onlinelibrary.wiley.com/doi/pdf/10.1002/cplx.20191)"
   ]
  },
  {
   "cell_type": "code",
   "execution_count": null,
   "id": "7f232e1a-fb36-464a-a130-e3237d1651d2",
   "metadata": {},
   "outputs": [],
   "source": []
  }
 ],
 "metadata": {
  "kernelspec": {
   "display_name": "Python 3 (ipykernel)",
   "language": "python",
   "name": "python3"
  },
  "language_info": {
   "codemirror_mode": {
    "name": "ipython",
    "version": 3
   },
   "file_extension": ".py",
   "mimetype": "text/x-python",
   "name": "python",
   "nbconvert_exporter": "python",
   "pygments_lexer": "ipython3",
   "version": "3.9.18"
  }
 },
 "nbformat": 4,
 "nbformat_minor": 5
}
