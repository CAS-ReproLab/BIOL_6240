{
 "cells": [
  {
   "cell_type": "markdown",
   "id": "28e30bfd-961b-44dc-8eec-bef3ad27f89a",
   "metadata": {},
   "source": [
    "# Homework 4 Intro Data Science for Biochem"
   ]
  },
  {
   "cell_type": "markdown",
   "id": "24029e51-aef8-45d5-abef-c4d4fe3f88f6",
   "metadata": {},
   "source": [
    "## Part I Little Data\n",
    "\n",
    "Computer programs provide instructions for a computer to execute. Overall these instructions consist of only a few basic ingredients: \n",
    "\n",
    "1. Information stored as variables- these can take different forms depending on the structure of the data that needs stored. We'll call these different forms Data Structures.\n",
    "2. Functions- these are modular subsets of instructions within the program. They can be looped through many times if needed.\n",
    "3. Control flow- the process of looping through subsets of instructions is called control flow.\n",
    "\n",
    "That's really it. There are a few other spefic things that can be helpful for making bigger programs more functional, but ultimately getting the hang of just these three ingredients will set you up to program your way through any project you undertake.\n",
    "\n",
    "In this part, let's focus on a few useful data structures. "
   ]
  },
  {
   "cell_type": "code",
   "execution_count": 1,
   "id": "d9886b36-1626-4d3a-8169-2060f2a4a0c1",
   "metadata": {},
   "outputs": [
    {
     "name": "stdout",
     "output_type": "stream",
     "text": [
      "string\n"
     ]
    }
   ],
   "source": [
    "# Variables\n",
    "my_string = 'string' #strings are characters and are defined by '' or \"\" \n",
    "print(string)"
   ]
  },
  {
   "cell_type": "code",
   "execution_count": 3,
   "id": "14fc3c6d-2a20-4891-91de-4f02e6bb320b",
   "metadata": {},
   "outputs": [
    {
     "name": "stdout",
     "output_type": "stream",
     "text": [
      "[1, 2, 3, 'a', 'b', 'c']\n"
     ]
    }
   ],
   "source": [
    "# Lists\n",
    "my_list = [1, 2, 3, 'a', 'b', 'c'] # lists store sets of variables of different types. Here we have a list of numbers and string letters\n",
    "print(my_list)"
   ]
  },
  {
   "cell_type": "code",
   "execution_count": 5,
   "id": "abfdac90-f823-483e-9895-985ff6d1ea61",
   "metadata": {},
   "outputs": [
    {
     "name": "stdout",
     "output_type": "stream",
     "text": [
      "c\n"
     ]
    }
   ],
   "source": [
    "# Navigating Lists\n",
    "print(my_list[0]) #using list_name[index] lets us access specic list elements. The list index starts at 0 (the first item) "
   ]
  },
  {
   "cell_type": "markdown",
   "id": "fa038d74-630c-4f58-9641-9753af70c2f1",
   "metadata": {},
   "source": [
    "### Question 1: Write code to access the last element in the list. "
   ]
  },
  {
   "cell_type": "code",
   "execution_count": 16,
   "id": "6221f418-b481-42f0-a87e-a3c9811d88a0",
   "metadata": {},
   "outputs": [],
   "source": [
    "# Your answer here\n"
   ]
  },
  {
   "cell_type": "code",
   "execution_count": 6,
   "id": "fba6844a-3409-47e0-9239-ca67f50d949a",
   "metadata": {},
   "outputs": [
    {
     "name": "stdout",
     "output_type": "stream",
     "text": [
      "c\n"
     ]
    }
   ],
   "source": [
    "# Lists can also be navigated backward\n",
    "print(my_list[-1]) # prints the last element. It's like taking a step backward from the first (0) position in the list"
   ]
  },
  {
   "cell_type": "code",
   "execution_count": 7,
   "id": "83be06d7-7bf8-4b2f-a3b5-9c38d5448a90",
   "metadata": {},
   "outputs": [
    {
     "name": "stdout",
     "output_type": "stream",
     "text": [
      "{'Col1': [1, 2, 3], 'Col2': ['a', 'b', 'c']}\n"
     ]
    }
   ],
   "source": [
    "# Dictionaries\n",
    "my_dict={\"Col1\":[1,2,3], \"Col2\": ['a','b','c']} # dictionaries hold 'keys' with associated lists of values. Think of these as columns and rows.\n",
    "print(my_dict)"
   ]
  },
  {
   "cell_type": "code",
   "execution_count": 13,
   "id": "2b5728fb-f036-476d-ac86-c045a52db8dc",
   "metadata": {},
   "outputs": [
    {
     "name": "stdout",
     "output_type": "stream",
     "text": [
      "{'Col1': [1, 2, 3], 'Col2': ['a', 'b', 'c']}\n",
      "   Col1 Col2\n",
      "0     1    a\n",
      "1     2    b\n",
      "2     3    c\n"
     ]
    },
    {
     "data": {
      "text/html": [
       "<div>\n",
       "<style scoped>\n",
       "    .dataframe tbody tr th:only-of-type {\n",
       "        vertical-align: middle;\n",
       "    }\n",
       "\n",
       "    .dataframe tbody tr th {\n",
       "        vertical-align: top;\n",
       "    }\n",
       "\n",
       "    .dataframe thead th {\n",
       "        text-align: right;\n",
       "    }\n",
       "</style>\n",
       "<table border=\"1\" class=\"dataframe\">\n",
       "  <thead>\n",
       "    <tr style=\"text-align: right;\">\n",
       "      <th></th>\n",
       "      <th>Col1</th>\n",
       "      <th>Col2</th>\n",
       "    </tr>\n",
       "  </thead>\n",
       "  <tbody>\n",
       "    <tr>\n",
       "      <th>0</th>\n",
       "      <td>1</td>\n",
       "      <td>a</td>\n",
       "    </tr>\n",
       "    <tr>\n",
       "      <th>1</th>\n",
       "      <td>2</td>\n",
       "      <td>b</td>\n",
       "    </tr>\n",
       "    <tr>\n",
       "      <th>2</th>\n",
       "      <td>3</td>\n",
       "      <td>c</td>\n",
       "    </tr>\n",
       "  </tbody>\n",
       "</table>\n",
       "</div>"
      ],
      "text/plain": [
       "   Col1 Col2\n",
       "0     1    a\n",
       "1     2    b\n",
       "2     3    c"
      ]
     },
     "execution_count": 13,
     "metadata": {},
     "output_type": "execute_result"
    }
   ],
   "source": [
    "# Dictionaries are useful ways to store doata, but they aren't visually appealing to look at. \n",
    "# Let's import the pandas data science library so we can use a better data structure for this. It's called a dataframe\n",
    "import pandas\n",
    "\n",
    "my_dict={\"Col1\":[1,2,3], \"Col2\": ['a','b','c']} # Here's our dictionary again\n",
    "print(my_dict)\n",
    "\n",
    "my_dataframe = pandas.DataFrame(my_dict) # Here's how we convert the dictionary into a dataframe. Dataframes are AWESOME for tabular data that have columnas and rows.\n",
    "print(my_dataframe)\n",
    "\n",
    "my_dataframe.head() # Pandas also has a bunch of useful tools that we can invoke like this .head() method that displays only the first five lines of the dataframe"
   ]
  },
  {
   "cell_type": "markdown",
   "id": "d8a55205-7d18-4fde-8474-d57372798109",
   "metadata": {},
   "source": [
    "### Question 2: Write some code to add a third column to my_dict."
   ]
  },
  {
   "cell_type": "code",
   "execution_count": 18,
   "id": "8bc5c8c7-adfe-42c2-861e-8ba35edb368e",
   "metadata": {},
   "outputs": [],
   "source": [
    "# Your answer here\n"
   ]
  },
  {
   "cell_type": "code",
   "execution_count": 25,
   "id": "38a7f1c4-fb41-4e1b-8a47-2f0e0edc73ef",
   "metadata": {},
   "outputs": [
    {
     "data": {
      "text/html": [
       "<div>\n",
       "<style scoped>\n",
       "    .dataframe tbody tr th:only-of-type {\n",
       "        vertical-align: middle;\n",
       "    }\n",
       "\n",
       "    .dataframe tbody tr th {\n",
       "        vertical-align: top;\n",
       "    }\n",
       "\n",
       "    .dataframe thead th {\n",
       "        text-align: right;\n",
       "    }\n",
       "</style>\n",
       "<table border=\"1\" class=\"dataframe\">\n",
       "  <thead>\n",
       "    <tr style=\"text-align: right;\">\n",
       "      <th></th>\n",
       "      <th>Amino Acids</th>\n",
       "      <th>Atomic Mass</th>\n",
       "    </tr>\n",
       "  </thead>\n",
       "  <tbody>\n",
       "    <tr>\n",
       "      <th>0</th>\n",
       "      <td>alanine</td>\n",
       "      <td>71.08</td>\n",
       "    </tr>\n",
       "    <tr>\n",
       "      <th>1</th>\n",
       "      <td>proline</td>\n",
       "      <td>97.12</td>\n",
       "    </tr>\n",
       "    <tr>\n",
       "      <th>2</th>\n",
       "      <td>glutamine</td>\n",
       "      <td>128.13</td>\n",
       "    </tr>\n",
       "  </tbody>\n",
       "</table>\n",
       "</div>"
      ],
      "text/plain": [
       "  Amino Acids  Atomic Mass\n",
       "0     alanine        71.08\n",
       "1     proline        97.12\n",
       "2   glutamine       128.13"
      ]
     },
     "execution_count": 25,
     "metadata": {},
     "output_type": "execute_result"
    }
   ],
   "source": [
    "# Working with Data\n",
    "AminoAcids=['alanine', 'proline', 'glutamine'] # list of amino acids as strings\n",
    "Atomic_Mass= [71.08, 97.12, 128.13] # list of atomic masses for each ammino acid as float values (decimals)\n",
    "\n",
    "# Now let's make a dataframe\n",
    "import pandas as pd # we can change the name we import as to make it easier to use the tools in the library. I.e., pandas.dataframe() Vs. pd.dataframe(). These do the same thing.\n",
    "\n",
    "AA_df=pd.DataFrame({'Amino Acids': AminoAcids, 'Atomic Mass': Atomic_Mass}) # {Column Header': list, ...}\n",
    "\n",
    "AA_df.head() # Show the first five rows"
   ]
  },
  {
   "cell_type": "code",
   "execution_count": 27,
   "id": "ec0b11e9-9119-443c-9911-8b6d45e67760",
   "metadata": {},
   "outputs": [
    {
     "name": "stdout",
     "output_type": "stream",
     "text": [
      "0      alanine\n",
      "1      proline\n",
      "2    glutamine\n",
      "Name: Amino Acids, dtype: object\n",
      "0     True\n",
      "1     True\n",
      "2    False\n",
      "Name: Atomic Mass, dtype: bool\n",
      "  Amino Acids  Atomic Mass  Cutoff\n",
      "0     alanine        71.08    True\n",
      "1     proline        97.12    True\n",
      "2   glutamine       128.13   False\n"
     ]
    }
   ],
   "source": [
    "# We can interact with the dataframe in a number of ways\n",
    "print(AA_df['Amino Acids']) # Prints only the first column\n",
    "\n",
    "print(AA_df['Atomic Mass'] < 100) # Prints the 'boolean' truth value of the statement: the atomic mass is < 100 for each amino acid\n",
    "\n",
    "# We can use pandas to add the truth values to the dataframe\n",
    "AA_df['Cutoff']=AA_df['Atomic Mass'] < 100\n",
    "print(AA_df)"
   ]
  },
  {
   "cell_type": "markdown",
   "id": "20a25c0b-bf45-4276-9f31-57983974bf12",
   "metadata": {},
   "source": [
    "### Question 3: Add a column to the AA_df dataframe that multiples the Atomic Mass by 2. \n",
    "\n",
    "Note: for python the * symbol indicates multiplication"
   ]
  },
  {
   "cell_type": "code",
   "execution_count": 29,
   "id": "5176c2ca-aaa7-4520-9911-4ff1f2929c09",
   "metadata": {},
   "outputs": [
    {
     "name": "stdout",
     "output_type": "stream",
     "text": [
      "0      alanine\n",
      "1      proline\n",
      "2    glutamine\n",
      "Name: Amino Acids, dtype: object\n",
      "0     True\n",
      "1     True\n",
      "2    False\n",
      "Name: Atomic Mass, dtype: bool\n",
      "  Amino Acids  Atomic Mass  Cutoff\n",
      "0     alanine        71.08    True\n",
      "1     proline        97.12    True\n",
      "2   glutamine       128.13   False\n"
     ]
    }
   ],
   "source": [
    "print(AA_df['Amino Acids']) # Prints only the first column\n",
    "\n",
    "print(AA_df['Atomic Mass'] < 100) # Prints the 'boolean' truth value of the statement: the atomic mass is < 100 for each amino acid\n",
    "\n",
    "# We can use pandas to add the truth values to the dataframe\n",
    "AA_df['Cutoff']=AA_df['Atomic Mass'] < 100 # New column = calculation on column in the current dataframe\n",
    "print(AA_df)\n",
    "\n",
    "# Your Answer Here"
   ]
  },
  {
   "cell_type": "markdown",
   "id": "bff80a61-bb96-4023-8a3b-3a6702a0d0a8",
   "metadata": {},
   "source": [
    "## Part II Big Data\n",
    "\n",
    "It might not be clear why we wouldn't just do this in Microsoft Excel. The code above is onerous for small dataframes. Where it really shines is when dealing with big datasets. \n",
    "\n",
    "In this part we'll learn how to use tools from the numpy (pronounced NUMB-PIE) library. "
   ]
  },
  {
   "cell_type": "code",
   "execution_count": 34,
   "id": "48f8cf3f-4acd-4fba-bf7e-92dcc0757345",
   "metadata": {},
   "outputs": [
    {
     "name": "stdout",
     "output_type": "stream",
     "text": [
      "[1, 2, 3]\n",
      "[1 2 3]\n",
      "[1, 2, 3, 1, 2, 3]\n",
      "[2 4 6]\n"
     ]
    }
   ],
   "source": [
    "# The dataframes we just used are actually built on special structures called numpy arrays\n",
    "# numpy arrays are like lists, but different in some important ways\n",
    "import numpy as np\n",
    "\n",
    "my_list = [1,2,3]\n",
    "print(my_list)\n",
    "\n",
    "my_array = np.array([1,2,3])\n",
    "print(my_array)\n",
    "\n",
    "# They might look similar, but they're quit different, let's try something: \n",
    "new_list = 2 * my_list\n",
    "print(new_list)\n",
    "\n",
    "new_array = 2 * my_array\n",
    "print(new_array)\n",
    "\n",
    "# See the difference:) Numpy arrays are basically matrices, which you might recall from your linear algebra nightmares.. All jokes aside, they're SUPER useful."
   ]
  },
  {
   "cell_type": "code",
   "execution_count": 35,
   "id": "28c54069-50e9-4329-b1d2-1dc93364fa75",
   "metadata": {},
   "outputs": [
    {
     "name": "stdout",
     "output_type": "stream",
     "text": [
      "[ 0 10 20 30 40 50 60 70 80 90]\n"
     ]
    }
   ],
   "source": [
    "# Let's use the arange function from numpy to make a big array..\n",
    "big_array = np.arange(0, 100, 10) # makes an array from 0-100 in steps of 10\n",
    "print(big_array)"
   ]
  },
  {
   "cell_type": "code",
   "execution_count": 40,
   "id": "a65aadca-b9da-4f62-aa27-6d050217e861",
   "metadata": {},
   "outputs": [
    {
     "name": "stdout",
     "output_type": "stream",
     "text": [
      "[  1.    1.1   1.2 ... 999.7 999.8 999.9]\n",
      "The length of the BIG_array is: 9990 points\n"
     ]
    }
   ],
   "source": [
    "# OK, it's not that big of an array. \n",
    "\n",
    "BIG_array = np.arange(1,1000, 0.1) # from 1-1000 in steps of 0.1\n",
    "print(BIG_array)\n",
    "\n",
    "print(\"The length of the BIG_array is:\", len(BIG_array), \"points\") # prints the length of the array"
   ]
  },
  {
   "cell_type": "code",
   "execution_count": 42,
   "id": "cb80f55a-0c23-4aa9-b179-65c6afc70fb3",
   "metadata": {},
   "outputs": [
    {
     "data": {
      "text/html": [
       "<div>\n",
       "<style scoped>\n",
       "    .dataframe tbody tr th:only-of-type {\n",
       "        vertical-align: middle;\n",
       "    }\n",
       "\n",
       "    .dataframe tbody tr th {\n",
       "        vertical-align: top;\n",
       "    }\n",
       "\n",
       "    .dataframe thead th {\n",
       "        text-align: right;\n",
       "    }\n",
       "</style>\n",
       "<table border=\"1\" class=\"dataframe\">\n",
       "  <thead>\n",
       "    <tr style=\"text-align: right;\">\n",
       "      <th></th>\n",
       "      <th>Original</th>\n",
       "      <th>Square</th>\n",
       "      <th>Cubed</th>\n",
       "    </tr>\n",
       "  </thead>\n",
       "  <tbody>\n",
       "    <tr>\n",
       "      <th>0</th>\n",
       "      <td>0.0</td>\n",
       "      <td>0.00</td>\n",
       "      <td>0.000</td>\n",
       "    </tr>\n",
       "    <tr>\n",
       "      <th>1</th>\n",
       "      <td>0.1</td>\n",
       "      <td>0.01</td>\n",
       "      <td>0.001</td>\n",
       "    </tr>\n",
       "    <tr>\n",
       "      <th>2</th>\n",
       "      <td>0.2</td>\n",
       "      <td>0.04</td>\n",
       "      <td>0.008</td>\n",
       "    </tr>\n",
       "    <tr>\n",
       "      <th>3</th>\n",
       "      <td>0.3</td>\n",
       "      <td>0.09</td>\n",
       "      <td>0.027</td>\n",
       "    </tr>\n",
       "    <tr>\n",
       "      <th>4</th>\n",
       "      <td>0.4</td>\n",
       "      <td>0.16</td>\n",
       "      <td>0.064</td>\n",
       "    </tr>\n",
       "  </tbody>\n",
       "</table>\n",
       "</div>"
      ],
      "text/plain": [
       "   Original  Square  Cubed\n",
       "0       0.0    0.00  0.000\n",
       "1       0.1    0.01  0.001\n",
       "2       0.2    0.04  0.008\n",
       "3       0.3    0.09  0.027\n",
       "4       0.4    0.16  0.064"
      ]
     },
     "execution_count": 42,
     "metadata": {},
     "output_type": "execute_result"
    }
   ],
   "source": [
    "# Now, let's use these numpy tools and the methods we talked about earlier to make a BIG dataframe...\n",
    "import numpy as np\n",
    "\n",
    "Column_1 = np.arange(0, 1000, 0.1)\n",
    "Column_2 = np.arange(0, 1000, 0.1) ** 2 # we can square this array using the exponent symbol ** \n",
    "Column_3 = np.arange(0, 1000, 0.1) ** 3 # now we're getting cubical..\n",
    "\n",
    "# Let's make a dataframe\n",
    "import pandas as pd\n",
    "\n",
    "BIG_df=pd.DataFrame({\"Original\": Column_1, \"Square\": Column_2, \"Cubed\": Column_3})\n",
    "\n",
    "BIG_df.head() # Can also try BIG_df.tail() to see the last five rows. Give it a try!"
   ]
  },
  {
   "cell_type": "code",
   "execution_count": 47,
   "id": "e0c0dea7-7eab-437a-ba4c-645915e4f976",
   "metadata": {},
   "outputs": [],
   "source": [
    "# What if we want to save the dataframe we just made? \n",
    "import pandas as pd\n",
    "\n",
    "BIG_df.to_csv('big.csv', index = False, header = True) # This will save in your current folder. Open it with excel to see its contents."
   ]
  },
  {
   "cell_type": "code",
   "execution_count": 48,
   "id": "e1426e71-91eb-42ed-900b-aab6be9c80a7",
   "metadata": {},
   "outputs": [
    {
     "data": {
      "text/html": [
       "<div>\n",
       "<style scoped>\n",
       "    .dataframe tbody tr th:only-of-type {\n",
       "        vertical-align: middle;\n",
       "    }\n",
       "\n",
       "    .dataframe tbody tr th {\n",
       "        vertical-align: top;\n",
       "    }\n",
       "\n",
       "    .dataframe thead th {\n",
       "        text-align: right;\n",
       "    }\n",
       "</style>\n",
       "<table border=\"1\" class=\"dataframe\">\n",
       "  <thead>\n",
       "    <tr style=\"text-align: right;\">\n",
       "      <th></th>\n",
       "      <th>Original</th>\n",
       "      <th>Square</th>\n",
       "      <th>Cubed</th>\n",
       "    </tr>\n",
       "  </thead>\n",
       "  <tbody>\n",
       "    <tr>\n",
       "      <th>0</th>\n",
       "      <td>0.0</td>\n",
       "      <td>0.00</td>\n",
       "      <td>0.000</td>\n",
       "    </tr>\n",
       "    <tr>\n",
       "      <th>1</th>\n",
       "      <td>0.1</td>\n",
       "      <td>0.01</td>\n",
       "      <td>0.001</td>\n",
       "    </tr>\n",
       "    <tr>\n",
       "      <th>2</th>\n",
       "      <td>0.2</td>\n",
       "      <td>0.04</td>\n",
       "      <td>0.008</td>\n",
       "    </tr>\n",
       "    <tr>\n",
       "      <th>3</th>\n",
       "      <td>0.3</td>\n",
       "      <td>0.09</td>\n",
       "      <td>0.027</td>\n",
       "    </tr>\n",
       "    <tr>\n",
       "      <th>4</th>\n",
       "      <td>0.4</td>\n",
       "      <td>0.16</td>\n",
       "      <td>0.064</td>\n",
       "    </tr>\n",
       "  </tbody>\n",
       "</table>\n",
       "</div>"
      ],
      "text/plain": [
       "   Original  Square  Cubed\n",
       "0       0.0    0.00  0.000\n",
       "1       0.1    0.01  0.001\n",
       "2       0.2    0.04  0.008\n",
       "3       0.3    0.09  0.027\n",
       "4       0.4    0.16  0.064"
      ]
     },
     "execution_count": 48,
     "metadata": {},
     "output_type": "execute_result"
    }
   ],
   "source": [
    "# What if we want to open a .csv file? This is more likely since we might want to work with big database files we've downloaded or generated in the lab\n",
    "import pandas as pd\n",
    "imported_df=pd.read_csv('big.csv') # create a dataframe to store it, and read in the dataframe using pd.read_csv()\n",
    "imported_df.head()"
   ]
  },
  {
   "cell_type": "markdown",
   "id": "613af4d2-ac9c-4101-a94b-04a5fc7c49fd",
   "metadata": {},
   "source": [
    "### Question 4: Add a column to the dataframe that is first column raised to the fourth power.\n",
    "\n",
    "Use the method you used in the AA_df exercise. "
   ]
  },
  {
   "cell_type": "code",
   "execution_count": 49,
   "id": "dc1b2da0-fb9a-4ddd-a587-4d392eb3758a",
   "metadata": {},
   "outputs": [],
   "source": [
    "# Your Answer Here\n"
   ]
  },
  {
   "cell_type": "markdown",
   "id": "c5f06804-9ceb-478c-9e86-c72003fdfcb9",
   "metadata": {},
   "source": [
    "## Part III: Data Visualization\n",
    "\n",
    "In this part we'll learn about some basic plotting features available in Python. The library we'll use is called matplotlib. There are others, but this is the most popular one. "
   ]
  },
  {
   "cell_type": "code",
   "execution_count": 64,
   "id": "5806fe68-f16e-4e86-b641-8641be870e40",
   "metadata": {},
   "outputs": [
    {
     "data": {
      "image/png": "[encoded data removed]",
      "text/plain": [
       "<Figure size 640x480 with 1 Axes>"
      ]
     },
     "metadata": {},
     "output_type": "display_data"
    }
   ],
   "source": [
    "# Let's make a super simple plot using matplotlib. We can do this in just 5-lines of code!\n",
    "\n",
    "import matplotlib.pyplot as plt\n",
    "\n",
    "# Define the data to plot on each axis\n",
    "x_axis = [0, 1, 2, 3, 4, 5]\n",
    "y_axis = [0, 2, 4, 6, 8, 10]\n",
    "\n",
    "plt.plot(x_axis, y_axis)\n",
    "plt.show()"
   ]
  },
  {
   "cell_type": "code",
   "execution_count": 63,
   "id": "0e839725-9065-48f0-ab24-05a611c42318",
   "metadata": {},
   "outputs": [
    {
     "data": {
      "image/png": "[encoded data removed]",
      "text/plain": [
       "<Figure size 640x480 with 1 Axes>"
      ]
     },
     "metadata": {},
     "output_type": "display_data"
    }
   ],
   "source": [
    "# Pretty bare bones... Let's dress it up a bit\n",
    "\n",
    "import matplotlib.pyplot as plt\n",
    "\n",
    "# Define the data to plot on each axis\n",
    "x_axis = [0, 1, 2, 3, 4, 5]\n",
    "y_axis = [0, 2, 4, 6, 8, 10]\n",
    "\n",
    "plt.plot(x_axis, y_axis, color='red') # Try replaceing 'plot' with 'scatter' or 'stem'\n",
    "plt.title('Awesome Plot')\n",
    "plt.xlabel('X-Axis')\n",
    "plt.ylabel('Y-Axis')\n",
    "plt.show()"
   ]
  },
  {
   "cell_type": "code",
   "execution_count": 72,
   "id": "87c02e81-22d3-4d25-a69b-fd8c1a9bb438",
   "metadata": {},
   "outputs": [
    {
     "data": {
      "image/png": "[encoded data removed]",
      "text/plain": [
       "<Figure size 640x480 with 1 Axes>"
      ]
     },
     "metadata": {},
     "output_type": "display_data"
    }
   ],
   "source": [
    "# Matplotlib has TONS of features. Let's try the style feature.\n",
    "\n",
    "import matplotlib.pyplot as plt\n",
    "\n",
    "# Define the data to plot on each axis\n",
    "x_axis = [0, 1, 2, 3, 4, 5]\n",
    "y_axis = [0, 2, 4, 6, 8, 10]\n",
    "\n",
    "plt.style.use('dark_background') # Try replacing 'dark_background' with 'Solarize_Light2' or 'ggplot'\n",
    "plt.plot(x_axis, y_axis, color='red') # Try replaceing 'plot' with 'scatter' or 'stem'. Replace 'red' with 'blue' or 'cyan'\n",
    "plt.title('Awesome Plot')\n",
    "plt.xlabel('X-Axis')\n",
    "plt.ylabel('Y-Axis')\n",
    "plt.show()"
   ]
  },
  {
   "cell_type": "code",
   "execution_count": 81,
   "id": "fdf4dc11-b3da-4b1a-9431-bad896f5534f",
   "metadata": {},
   "outputs": [
    {
     "data": {
      "image/png": "[encoded data removed]",
      "text/plain": [
       "<Figure size 640x480 with 1 Axes>"
      ]
     },
     "metadata": {},
     "output_type": "display_data"
    }
   ],
   "source": [
    "# Now that we've seen some simple plotting, let's use numpy arrays to generate some data and look at a few different plot types. \n",
    "\n",
    "import numpy as np\n",
    "import pandas as pd\n",
    "import matplotlib.pyplot as plt\n",
    "\n",
    "Column_1 = np.arange(0, 1000, 0.1)\n",
    "Column_2 = np.arange(0, 1000, 0.1) ** 2 # we can square this array using the exponent symbol ** \n",
    "Column_3 = np.arange(0, 1000, 0.1) ** 3 # now we're getting cubical..\n",
    "\n",
    "# Let's make a dataframe\n",
    "import pandas as pd\n",
    "\n",
    "BIG_df=pd.DataFrame({\"Original\": Column_1, \"Square\": Column_2, \"Cubed\": Column_3})\n",
    "\n",
    "# Plotting\n",
    "plt.style.use('dark_background')\n",
    "plt.plot(BIG_df['Original'], BIG_df['Square']) # We reference the dataframe columns as our x and y axes for the plot; Try plotting the 'Cubed' column\n",
    "plt.title('Awesome Plot')\n",
    "plt.xlabel('Original')\n",
    "plt.ylabel('Squared')\n",
    "plt.show()"
   ]
  },
  {
   "cell_type": "code",
   "execution_count": 85,
   "id": "9e0db07c-0fd8-4546-a216-7296a2f8d212",
   "metadata": {},
   "outputs": [
    {
     "data": {
      "image/png": "[encoded data removed]",
      "text/plain": [
       "<Figure size 640x480 with 1 Axes>"
      ]
     },
     "metadata": {},
     "output_type": "display_data"
    }
   ],
   "source": [
    "# How to plot a histogram\n",
    "\n",
    "# Use a numpy array to create a collection of values drqwn from a normal (Gaussian) distribution\n",
    "# Parameters\n",
    "mean = 0 \n",
    "stdev = 1\n",
    "sample_size = 1000\n",
    "\n",
    "# Simulate the array\n",
    "normal_dist = np.random.normal(mean, stdev, sample_size)\n",
    "\n",
    "plt.style.use('dark_background')\n",
    "plt.hist(normal_dist, bins = 20, alpha=0.75, color='cyan', edgecolor='white') # plot the histogram. Bins are how big the intervales of each bar are.\n",
    "plt.title('Awesome Histogram')\n",
    "plt.xlabel('Value')\n",
    "plt.ylabel('Count')\n",
    "plt.show()\n",
    "\n",
    "# Histograms are a great way to see how the values in a particular column of a dataframe are distributed"
   ]
  },
  {
   "cell_type": "code",
   "execution_count": 88,
   "id": "0c2125c4-9bc6-4c1d-9bb2-2e70fff20ae7",
   "metadata": {},
   "outputs": [
    {
     "data": {
      "image/png": "[encoded data removed]",
      "text/plain": [
       "<Figure size 640x480 with 1 Axes>"
      ]
     },
     "metadata": {},
     "output_type": "display_data"
    }
   ],
   "source": [
    "# LEt's try this on the dataframe from above\n",
    "import numpy as np\n",
    "import pandas as pd\n",
    "import matplotlib.pyplot as plt\n",
    "\n",
    "Column_1 = np.arange(0, 1000, 0.1)\n",
    "Column_2 = np.arange(0, 1000, 0.1) ** 2 # we can square this array using the exponent symbol ** \n",
    "Column_3 = np.arange(0, 1000, 0.1) ** 3 # now we're getting cubical..\n",
    "\n",
    "# Let's make a dataframe\n",
    "import pandas as pd\n",
    "\n",
    "BIG_df=pd.DataFrame({\"Original\": Column_1, \"Square\": Column_2, \"Cubed\": Column_3})\n",
    "\n",
    "plt.style.use('dark_background')\n",
    "plt.hist(BIG_df['Square'], bins = 100, alpha=0.75, color='cyan', edgecolor='white') # plot the histogram. Bins are how big the intervales of each bar are.\n",
    "plt.title('Another Awesome Histogram')\n",
    "plt.xlabel('Value')\n",
    "plt.ylabel('Count')\n",
    "plt.show()"
   ]
  },
  {
   "cell_type": "markdown",
   "id": "35ffdf50-29de-4501-8fd7-6ec4d62acc89",
   "metadata": {},
   "source": [
    "## Some Real Data Science\n",
    "\n",
    "Now we've got the skills to play around with some real data. We'll download a .csv from [Pubchem](https://pubchem.ncbi.nlm.nih.gov/classification/#hid=72) that contains ~242 thousand entries for different chemical compounds. (*Experimental properties).  "
   ]
  }
 ],
 "metadata": {
  "kernelspec": {
   "display_name": "Python 3 (ipykernel)",
   "language": "python",
   "name": "python3"
  },
  "language_info": {
   "codemirror_mode": {
    "name": "ipython",
    "version": 3
   },
   "file_extension": ".py",
   "mimetype": "text/x-python",
   "name": "python",
   "nbconvert_exporter": "python",
   "pygments_lexer": "ipython3",
   "version": "3.11.10"
  }
 },
 "nbformat": 4,
 "nbformat_minor": 5
}
