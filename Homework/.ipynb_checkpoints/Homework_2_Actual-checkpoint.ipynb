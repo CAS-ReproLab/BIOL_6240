{
 "cells": [
  {
   "cell_type": "markdown",
   "id": "36e2d943-5e3c-4107-8f65-2cd639d79f73",
   "metadata": {},
   "source": [
    "# BIOL 6240 Homework 2: Thermodynamics of Biological Systems\n",
    "\n",
    "Learning Objectives: \n",
    "\n",
    "1. Use thermodynamic principles to describe and analyze three types of systems: closed systems, closed reaction systems, and open reaction systems.\n",
    "\n",
    "Programming Objectives: \n",
    "\n",
    "1. Be able to format and solve basic equations as `functions`.\n",
    "2. Be able to visualize a range of possible solutions as `plots`."
   ]
  },
  {
   "cell_type": "markdown",
   "id": "e0761934-5ce3-4668-bdb9-3685a383e070",
   "metadata": {},
   "source": [
    "# The First Law of Thermodynamics: \n",
    "\n",
    "* Noble gases behave 'ideally' because they are not reactive due to their filled `valence shell`.\n",
    "* A metal can filled with helium is a useful 'toy' model of a closed thermodynamic system that does not change due to chemical reactions, does not exchange matter with the surroundings, but can gain or lose energy from the surroundings in the form of heat.\n",
    "* The internal energy of the gas in the can can be described by the [first law of thermodyanmics](https://en.wikipedia.org/wiki/First_law_of_thermodynamics): $U = Q - W$, where U is internal energy in Joules, Q is heat, and W is work (i.e., non-heat energy transfer). \n",
    "* For an ideal gas, $U$ can be described using the [equipartition theorem](https://en.wikipedia.org/wiki/Equipartition_theorem#:~:text=The%20equipartition%20theorem%20shows%20that,to%20the%20system's%20heat%20capacity.), with the following relation: $U=\\frac{3}{2}nRT$, where n is mole number, R is the ideal gas constant $8.314 \\frac{Joules}{mol\\cdot{K}}$\n",
    "* A system undergoing a change in temperature, or a difference in temperature between system and surroundings is described by: $\\Delta{U}= \\frac{3}{2}R\\Delta{T}$\n",
    "\n",
    "Why we care...\n",
    "\n",
    "* Understanding energy conservation in microscopic systems is essential to accurately describe WHY and HOW biochemical systems behave the way they do.\n",
    "* Using this simple closed system of ideal gas, we can imagine what 'causes' the observable energy state, and frame changes in the energy states in useful quantitative terms. "
   ]
  },
  {
   "cell_type": "markdown",
   "id": "c64040b5-aa6c-4da7-81ae-5056b680a490",
   "metadata": {},
   "source": [
    "## Programming Example\n",
    "\n",
    "We begin with our can of helium gas in our classroom at $25\\degree Celsius$. The mole number is $0.0012$ (calculated in class using dimensional analysis). While in our room, the helium gas is in a thermal equilibrium state because its temperature is not changing. We know this because we have one of those aquarium sticker thermometers on the side.\n",
    "\n",
    "We then set our can in the window in the sun. The solar electromagnetic radiation heats the can to $40\\degree Celsius$, which remains unchanged for several minutes indicating that the can has reached a new thermal equilibrium. \n",
    "\n",
    "Below is a python program that will calculate the change in internal energy that the helium has undergone. \n",
    "\n",
    "Here are some general principles for making this kind of program: \n",
    "\n",
    "1. Define the `constants` and store these as `variables` in the program. To learn more about basic Python syntax, [click here](https://github.com/CAS-ReproLab/Pyochem_1/blob/main/01_Syntax.ipynb).\n",
    "2. Use math to convert some of the constants to appropriate units.\n",
    "3. Create a `function` that takes the constants as inputs and returns the calculated internal energy. To learn more about functions, [click here](https://github.com/CAS-ReproLab/Pyochem_1/blob/main/06_Functions.ipynb).\n",
    "4. Use a `print` statement to display the output when the program is run.\n",
    "\n",
    " Run the program to see the printed output."
   ]
  },
  {
   "cell_type": "code",
   "execution_count": 8,
   "id": "229d554b-570f-4e04-9ca9-a28ffb13f840",
   "metadata": {},
   "outputs": [
    {
     "name": "stdout",
     "output_type": "stream",
     "text": [
      " The change in internal energy of the helium is 0.22447799999999998 Joules\n"
     ]
    }
   ],
   "source": [
    "# Example internal energy change calculation\n",
    "\n",
    "# Define the constants\n",
    "Celsius_final = 40 # final temp in celsius\n",
    "Celsius_initial = 25 # initial temp\n",
    "n = 0.0012 # mole number\n",
    "R = 8.314 # ideal gas constant in J/mol*K\n",
    "\n",
    "# Convert the temperature constants to Kelvin from degrees celsius\n",
    "K_conv = 273.15 # the conversion factor\n",
    "T_final = Celsius_final + K_conv\n",
    "T_initial = Celsius_initial + K_conv\n",
    "\n",
    "# Create a function to calculate the internal energy change\n",
    "def int_energy(n, R, T_final, T_initial): # define the function called int_energy that takes the arguments in the ()\n",
    "    dT = T_final - T_initial # calculate the temperature differential. Note the indentation.\n",
    "    dU = (3/2)*n*R*dT \n",
    "    return dU\n",
    "\n",
    "# 'Call' the int_energy() function with the following inputs\n",
    "output = int_energy(n,R,T_final, T_initial)\n",
    "\n",
    "# print the output of the function for display\n",
    "print(f' The change in internal energy of the helium is {output} Joules')"
   ]
  },
  {
   "cell_type": "markdown",
   "id": "eaedd2fb-81a0-4c85-8fe8-ac2ee22d27d4",
   "metadata": {},
   "source": [
    "## Question 1: Calculating internal energy change. \n",
    "\n",
    "We leave our can in the sun for a few more hours and note that it has now reached a stable $50\\degree Celsius$. Change the `celsius_final` variable in the above program to calculate the new difference in internal energy relative to its initial state of $25\\degree Celsius$. What is the new internal energy?\n",
    "\n",
    "Your answer here: "
   ]
  },
  {
   "cell_type": "markdown",
   "id": "efe296db-aac4-4e76-83d9-9be7f741e694",
   "metadata": {},
   "source": [
    "## Question 2: The effect of mole number.\n",
    "\n",
    "For the energy change calculated above, the mole number was 0.0012 moles of helium. How would the energy change differ if we repeated this experiment with a can containing 1 mole of gas? Modify the program accordingly to find out.\n",
    "\n",
    "Your answer here: "
   ]
  },
  {
   "cell_type": "markdown",
   "id": "403fbeac-a9dc-48ec-b515-acaa04f4592d",
   "metadata": {},
   "source": [
    "## Question 3: Mole number at constant volume is density.\n",
    "\n",
    "In the above question, the volume of the can is unchanged. So the `density` of the gas in the can was increased when the mole number was increased from 0.0012 moles to 1 mole. Given the answer you obtained, what do you conclude about the relationship between heat transfer and density? \n",
    "\n",
    "Your answer here: "
   ]
  },
  {
   "cell_type": "markdown",
   "id": "85727219-a965-4111-bea2-d94408fd6e14",
   "metadata": {},
   "source": [
    "# The Second Law of Thermodynamics: \n",
    "\n",
    "* At thermodynamic equilibrium, the `macrostate` of a system will reflect the arrangement of the system with the most possible `microstates`. In class we discussed a scenario in which two helium atoms in a container could take on three possible energy states - low, medium, or high. If heat is slowly added to the system, the number of possible microstates increases and the energy value of the macrostate increases accordingly.\n",
    "* [The second law of thermodynamics](https://en.wikipedia.org/wiki/Second_law_of_thermodynamics) tells us about the directionality of thermodynamic processes. I.e., closed or isolated system will become more energetically uniform if left alone. The state of highest uniformity is the state with the highest entropy.\n",
    "* How long this takes is known as `relaxation time`. The coffee in your thermos will reach room temperature inevitably, but the thermos slows the relaxation time compared with an uninsulated cup. \n",
    "* Entropy (S) is defined $S = k_{b}\\log{\\Omega}$. $k_{b}$ is Boltzmann's constant, and $k_{b} = 1.38\\cdot10^{-23}$ at atmospheric pressure, 1 mole, and 298 Kelvin.\n",
    "* Boltzmann's constant is the ideal gas constant $R =8.314 J/mol\\cdot K$ divided by Avogadro's number, $k_{b}=R/6.022\\cdot 10^{-23}$. Notice how this number is very small. Its units are $J/atom\\cdot K$ or $J/molecule\\cdot K$ depending on what the calculation is performed on. \n",
    "* In most cases, it is impractical or even impossible to enumerate all of the microstates of a system, and they don't fall into simple low, medium, and high energy states. So we will make an assumption that is convenient for analyzing entropy from a change in temperature. $\\frac{\\Omega_{final}} {\\Omega_{initial}} = \\frac{Temperature_{final}} {Temperature_{initial}}$.\n",
    "* So to calculate an entropy change for a system of ideal gas that changes from $25\\degree Celsius$ to $50\\degree Celsius$ we use $\\Delta S = k_{b}\\log{\\frac{Temperature_{final}} {Temperature_{initial}}}$. Note that temperature is in Kelvin.  "
   ]
  },
  {
   "cell_type": "markdown",
   "id": "c4f30e5c-bd07-4b3b-9d90-cccda3297fd3",
   "metadata": {},
   "source": [
    "## Question 4: Hands-On Programming Exercise\n",
    "\n",
    "Using the key concepts from the first law program, `create your own program` to calculate an entropy change for a system that undergoes a change in temperature. \n",
    "\n",
    "Remember the steps: \n",
    "\n",
    "1. Define the constants and store them as variables.\n",
    "2. Make any necessary unit conversions.\n",
    "3. Define a function to make the calculation.\n",
    "4. Call the function using the defined inputs.\n",
    "5. Print the output.\n",
    "\n",
    "Try to make your own program below. If you need help, an example solution for this program is provided below. Try to make your program without looking at the solution. If you look at the solution, still complete your own version of the program. "
   ]
  },
  {
   "cell_type": "markdown",
   "id": "726a34ce-b030-4f88-ab3a-57fe69e4b5a2",
   "metadata": {},
   "source": [
    "### Quick Note\n",
    "\n",
    "One quick note before you write your program. You will need to calculate a natural logarithm for the entropy calculation, which requires a few extra steps. To do this you will need to import a python library called 'math' and use a function that is defined in that library. \n",
    "\n",
    "See below for a quick demonstration..."
   ]
  },
  {
   "cell_type": "code",
   "execution_count": 15,
   "id": "75628a99-629c-4171-9ee5-624b44530275",
   "metadata": {},
   "outputs": [
    {
     "name": "stdout",
     "output_type": "stream",
     "text": [
      " The natural log of n is 0.6931471805599453\n",
      " The entropy is 1.5160849583619913 J/K\n"
     ]
    }
   ],
   "source": [
    "# Calculate a natural logarithm using the math library \n",
    "\n",
    "# Import the math library which contains a function for calculating natural logarithms\n",
    "import math # imports the library called 'math'\n",
    "\n",
    "# Calculate a natural logarithm\n",
    "n = 2\n",
    "natural_log = math.log(n)\n",
    "print(f' The natural log of n is {natural_log}') # prints the natural log of n\n",
    "\n",
    "# Example entropy calculation\n",
    "k_b = 1.38 # Joules/Kelvin\n",
    "Omega = 3 # number of possible microstates\n",
    "S = k_b * math.log(Omega)\n",
    "\n",
    "print(f' The entropy is {S} J/K')"
   ]
  },
  {
   "cell_type": "code",
   "execution_count": 9,
   "id": "7b1ce6f7-2858-433f-ac3d-d1d8ad78c6d2",
   "metadata": {},
   "outputs": [],
   "source": [
    "# Your program here"
   ]
  },
  {
   "cell_type": "markdown",
   "id": "2ae61baf-71ec-4088-b93f-6c364c2d82c9",
   "metadata": {},
   "source": [
    "### Solution to Question #4"
   ]
  },
  {
   "cell_type": "code",
   "execution_count": 10,
   "id": "c153f6ae-d121-4175-98d7-99a9aa8a2a0e",
   "metadata": {},
   "outputs": [
    {
     "name": "stdout",
     "output_type": "stream",
     "text": [
      "Initial Temperature: 298 K\n",
      "Final Temperature: 338 K\n",
      "Entropy Change (ΔS): 3.48e-24 J/K\n"
     ]
    }
   ],
   "source": [
    "import math\n",
    "\n",
    "# Define constants\n",
    "k_B = 1.38e-23  # Boltzmann constant in J/K\n",
    "n = 2  # Number of moles of helium atoms\n",
    "\n",
    "# Define initial and final temperatures (in Kelvin)\n",
    "T_initial = 298  # Initial temperature (25°C)\n",
    "T_final = 338  # Final temperature (assumed 40 K increase for this example)\n",
    "\n",
    "# Function to calculate entropy change based on temperature ratio\n",
    "def calculate_entropy_change(T_initial, T_final, n, k_B):\n",
    "    delta_S = n * k_B * math.log(T_final / T_initial)\n",
    "    return delta_S\n",
    "\n",
    "# Calculate the entropy change by 'calling' the function with the appropriate input parameters\n",
    "delta_S = calculate_entropy_change(T_initial, T_final, n, k_B)\n",
    "\n",
    "# Output the result\n",
    "print(f\"Initial Temperature: {T_initial} K\")\n",
    "print(f\"Final Temperature: {T_final} K\")\n",
    "print(f\"Entropy Change (ΔS): {delta_S:.2e} J/K\")"
   ]
  },
  {
   "cell_type": "markdown",
   "id": "0f59fb68-256c-4e65-b3c2-75410219abfa",
   "metadata": {},
   "source": [
    "# Gibbs Free Energy\n",
    "\n",
    "* [Gibbs free energy](https://en.wikipedia.org/wiki/Gibbs_free_energy) is a thermodynamic potential that can be used to analyze the maximum non volume-expansion work that can be performed in a closed system at constant temperature and pressure.\n",
    "* The 'internal' Gibbs free energy is given by the relation $G_{P,T}=U + PV - TS$\n",
    "* **Enthalpy**: Imagine a magician could create a rabbit out of nothing. To do so, they would need to create all of the rabbit's internal energy (U). However, they would also need to create all of its material subtance to displace the atmosphere that is filling the space the rabbit will be created into (PV). Together these form the rabbit's enthalpy $H = U + PV$.\n",
    "* **Entropy**: $S$ as we discussed from the second law is the entropy (or energy dispersion) times the current (constant) absolute temperature $TS$.\n",
    "* For a system that undergoes change, we have $G_{final}-G_{initial}$ or $\\Delta G_{T,P} = \\Delta U + P\\Delta V - T\\Delta S$... The change in internal energy and the space the system occupies, corrected the relative dispersion of its energy within its boundaries.\n",
    "* This relation simply reminds us what the first law tells us, that systems can exchange energy in two ways: `heat transfer` and `work`.\n",
    "* What makes this relation useful for biochemical systems, is that it tells us that the `work` is essentially always entropic (involving the tendency of the system to trend toward equilibrium).\n",
    "* Living systems characteristically `consume` the reduction of entropy. That's what (mostly) distinguishes them from non-living systems."
   ]
  },
  {
   "cell_type": "markdown",
   "id": "ad31b1e2-dc01-44a6-8b52-026a686ada66",
   "metadata": {},
   "source": [
    "## Equilibrium and the Law of Mass Action\n",
    "\n",
    "* The mass action law states that the rate of a chemical reaction is proportional to the concentrations of the reactants and products.\n",
    "* Note that `activities` are actually what is used in the original mass action theory. Activities differ from concentrations because in the real world, not all of the atoms or molecules represented by a concentration are equally likely to react. This is an important distinction to understand, but for simplicity we will use concentrations only.\n",
    "* **The Law of Mass Action**: For reaction $aA+bB\\rightleftarrows cC+dD$, the forward and reverse reaction rates are denoted $k_{f}$ and $k_{r}$ respectively. At equilibrium $k_{f} = k_{r}$ and their ratio $\\frac{k_{f}}{k_{r}} = 1$.\n",
    "* When this condition is met, we have the equilibrium expression $K_{eq}=\\frac{[C]^{c}[D]{d}}{[A]^{a}[B]^{b}}$\n",
    "* This implies that the system may still remain in motion, with forward and reverse reactions occuring, but they will occur at the same rate and thus the `ratio` of the concentrations of product and reactant will remain stable over time."
   ]
  },
  {
   "cell_type": "markdown",
   "id": "a2c4c001-1f7d-4231-983c-da833a2859ed",
   "metadata": {},
   "source": [
    "## A Brief Note about Higher Order Reactions\n",
    "\n",
    "* The logic of the above formalism is that A and B must interact physically in space in order to react with one another. Why do we multiply in the equilibrium constant expression, and furthermore, why do we raise them to the `power` of their stoichiometric coefficients?\n",
    "* **The answer to that question comes from probability theory**...\n",
    "* Imagine you roll a die. What is the probability of seeing 6? Well, it is equal to the number of ways it `will happen` over the number of ways it `could happen`. There's one way to roll 6, out of six possible outcomes total. So the probability is $\\frac{1}{6}$.\n",
    "* Now, imagine you rolled two dice. What is the probability of rolling 6 on both dice? It turns out it is $\\frac{1}{6} \\cdot \\frac{1}{6} = \\frac{1}{36}$ or... $(\\frac{1}{6})^{2}$.\n",
    "* What is the probability of rolling 6 on three dice? $(\\frac{1}{6})^{3}=\\frac{1}{216}$\n",
    "* So, the probability of three independent events happening simultaneously is exponentially related to the number of independent trials.\n",
    "* To frame this in chemistry terms, if we assume the probability of molecules meeting in space is proportional to their concentration (as the law of mass action does), then the probability of two molecules simultaneously meeting in space is proportional to the `square` of their concentrations. The probability of three molecules simultaneously meeting in space is proportional to the `cube` of their concentrations, and so on...\n",
    "* For $2A\\rightleftarrows B$, the probability of two A's meeting is proportional to $[A]^{1}\\cdot [A]^{1} = [A]^{1+1}$ or $[A]^{2}$.\n",
    "* For the reaction $A + B \\leftrightarrows C$, then $[A]^{1}\\cdot [B]^{1} \\propto [AB]^{1+1}$.  \n",
    "* **The law of mass action** assumes that molecular interactions are `independent` and that increasing concentration of reactants makes the interactions happen more often. "
   ]
  },
  {
   "cell_type": "markdown",
   "id": "bc848d7e-da2d-4e1e-b326-4626aa9f83eb",
   "metadata": {},
   "source": [
    "## Question 5: Probability and Reaction Rate\n",
    "\n",
    "The section above highlights an essential property of the law of mass action, that reaction rate is proportional to the concentrations of reactants and products. As reactants react with one another to form products, their concentrations effectively `decrease`. Given this observation, would you predict that a reaction `speeds up`, or `slows down` as it approaches equilibrium?\n",
    "\n",
    "Your answer here: "
   ]
  },
  {
   "cell_type": "markdown",
   "id": "52a505f3-e270-44cf-b39b-a0da8ab18f92",
   "metadata": {},
   "source": [
    "# Equilibrium and Energy\n",
    "\n",
    "* Under conditions that are close to those observed for biological systems, the Gibbs free energy $\\Delta G_{T,P} = \\Delta U + P\\Delta V - T\\Delta S$ for a reaction simplifies to $\\Delta_{r}G\\textdegree= -RT\\log{(K_{eq})}$\n",
    "* In practical terms, Gibbs free energy in this context is a measure of the chemical work that could be transfered to some other work process (e.g., making DNA, etc.) if there was some process available to capture it. It depends on some `assumptions`:\n",
    "\n",
    "1. This is the `potential energy` that can be transferred from a reaction when the reactants start in aqueous solution at 1 mole/L concentration, pH = 0, 298K, and 1 atmosphere pressure.\n",
    "2. It assumes that temperature is held constant by a large heat sink or bath (in biological systems this more/less holds up).\n",
    "3. It only captures the amount of energy that can be dissipated when the reaction goes from the specified starting point to thermodynamic equilibrium. Similar to the potential energy that can be dissipated by a macroscopic ball falling from a known height and coming to rest on the ground. "
   ]
  },
  {
   "cell_type": "markdown",
   "id": "9d08fdfd-3ad2-4092-9929-a20411747e26",
   "metadata": {},
   "source": [
    "## Question 6: Hands-On Programming Exercise: \n",
    "\n",
    "The purpose of this program is to pring the change in $\\Delta_{r}G\\textdegree$ for a given value of $K_{eq}$\n",
    "This program should be very similar to the program you developed earlier in this Homework assignment to calculate entropy.\n",
    "\n",
    "The equation you'll need to model is: $\\Delta_{r}G\\textdegree= -RT\\log{(K_{eq})}$\n",
    "\n",
    "Here are some general principles for making this kind of program:\r\n",
    "1. Import the math library, you'll need it for the natural logarithm.\n",
    "2. Store the values of all constants as variables. For example: `R = 8.314 # J/mol*K`\n",
    "3. Define a variable to store $K_{eq}$. For example: `K_eq = 1 # mole/L` \n",
    "4. Define a function that takes the constants as inputs, calculates the standard Gibbs free energy using the equation above. Note that python uses the following math operators: +, -, *, /, and math.log('input_number') for the logarithm.\n",
    "\n",
    "The following is a solution to the program, however, I strongly encourage you to avoid looking at it until you have completed your own version of the program. Do not copy/paste even if you do need to look at it. Instead try to see how the program is designed, and re-implement in your program to ensure that you learn from the process. utput."
   ]
  },
  {
   "cell_type": "code",
   "execution_count": null,
   "id": "fb34a691-2494-48bf-b397-a19220005748",
   "metadata": {},
   "outputs": [],
   "source": [
    "# Your program here"
   ]
  },
  {
   "cell_type": "markdown",
   "id": "7e85a1da-c449-4bd9-89bc-c7fb9c6848ee",
   "metadata": {},
   "source": [
    "### Solution to Question #6"
   ]
  },
  {
   "cell_type": "code",
   "execution_count": 21,
   "id": "05630087-b2f0-403a-8caf-8ba631ce136f",
   "metadata": {},
   "outputs": [
    {
     "name": "stdout",
     "output_type": "stream",
     "text": [
      "The standard Gibbs free energy change (ΔG°) for the reaction is: 1717.32 J/mol\n"
     ]
    }
   ],
   "source": [
    "#Example program solution\n",
    "\n",
    "import math\n",
    "\n",
    "# Constants\n",
    "R = 8.314  # Gas constant in J/(mol*K)\n",
    "T = 298 # kelvin\n",
    "K_eq = 1 # mole/L\n",
    "# Function to calculate standard Gibbs free energy change\n",
    "def calc_delta_G(K_eq, temperature):\n",
    "    delta_G_standard = -R * temperature * math.log(K_eq)\n",
    "    return delta_G_standard\n",
    "    \n",
    "# Calculate the Gibbs free energy change\n",
    "delta_G_standard = calc_delta_G(K_eq, T) # Change the values of K_eq and/or T to see the impact on delta G.\n",
    "\n",
    "# Output the result. Note that the '.2f' in the print statement limits the output to 2 decimal places\n",
    "print(f'The standard Gibbs free energy change (ΔG°) for the reaction is: {delta_G_standard:.2f} J/mol')"
   ]
  },
  {
   "cell_type": "markdown",
   "id": "477626d1-e176-42d6-9b2b-c892f10c9935",
   "metadata": {},
   "source": [
    "## Question 7: Estimating effect of the equilibrium constant\n",
    "\n",
    "$K_{eq}$ is the `ratio` of products to reactants at equilibrium. If it is 1, the concentrations of reactants and products are equal. Try some numbers below and above 1. What happends to the standard Gibbs free energy of the reaction? "
   ]
  },
  {
   "cell_type": "markdown",
   "id": "35acc6a8-e133-4383-b419-d172db39eb09",
   "metadata": {},
   "source": [
    "## Question 8: Estimating the effect of temperature\n",
    "\n",
    "If the equilibrium constant is one, what happens if you increase the temperature from $25\\textdegree C$ to $37 \\textdegree C$? Remember, the conversion for Celsius to Kelvin is: $Celsius + 273.15 = Kelvin$"
   ]
  },
  {
   "cell_type": "code",
   "execution_count": 38,
   "id": "d06a5718-7693-47ab-9472-b99751efbed8",
   "metadata": {},
   "outputs": [
    {
     "data": {
      "image/png": "[encoded data removed]",
      "text/plain": [
       "<Figure size 800x600 with 1 Axes>"
      ]
     },
     "metadata": {},
     "output_type": "display_data"
    }
   ],
   "source": [
    "import math\n",
    "import numpy as np\n",
    "import matplotlib.pyplot as plt\n",
    "\n",
    "# Constants\n",
    "R = 8.314  # Gas constant in J/(mol*K)\n",
    "T = 298    # Temperature in Kelvin\n",
    "\n",
    "# Function to calculate standard Gibbs free energy change\n",
    "def calc_delta_G(K_eq, temperature):\n",
    "    delta_G_standard = -R * temperature * np.log(K_eq)\n",
    "    return delta_G_standard\n",
    "\n",
    "# Array of equilibrium constants (K_eq) from 1/1000 to 1000 in magnitudes of 10\n",
    "K_eq_values = np.logspace(-3, 3, num=7)  # Generates values: 10^-3, 10^-2, ..., 10^3\n",
    "\n",
    "# Calculate Gibbs free energy changes for each K_eq\n",
    "delta_G_values = calc_delta_G(K_eq_values, T)\n",
    "\n",
    "# Plot the results\n",
    "plt.figure(figsize=(8, 6))\n",
    "plt.plot(K_eq_values, delta_G_values, marker='o', linestyle='-', color='b')\n",
    "\n",
    "# Set the scale of x-axis to logarithmic\n",
    "plt.xscale('linear') # Change to 'log' to view on a logarithmic scale, or 'linear' for a linear scale\n",
    "\n",
    "# Adding labels and title\n",
    "plt.xlabel('Equilibrium Constant (K_eq)')\n",
    "plt.ylabel('Standard Gibbs Free Energy Change (ΔG°) [J/mol]')\n",
    "plt.title('Effect of Equilibrium Constant on Gibbs Free Energy Change')\n",
    "\n",
    "# Show grid for better readability\n",
    "plt.grid(True)\n",
    "\n",
    "# Display the plot\n",
    "plt.show()"
   ]
  },
  {
   "cell_type": "markdown",
   "id": "969445e5-1ae1-43c9-8f66-4d22e3266612",
   "metadata": {},
   "source": [
    "## Question 9: Interpreting the effect of changing equilibrium constant\n",
    "\n",
    "This plot shows the stardard Gibbs free energy change for a reaction as it goes to equilibrium under standard conditions. For what values of K is this reaction `spontaneous` in the forward direction? In other words, for what values of $\\Delta G$ would we predict that the reaction is spontaneous?\n",
    "\n",
    "Your answer here: "
   ]
  },
  {
   "cell_type": "markdown",
   "id": "bb49856b-155b-45e7-b76a-06a0ac10f375",
   "metadata": {
    "jp-MarkdownHeadingCollapsed": true
   },
   "source": [
    "## Question 10: Logarithmic Vs. Linear Interpretation of this plot\n",
    "\n",
    "In the code, change `plt.xscale('linear')` to `plt.xscale('log')`. Is the relationship between Gibbs energy change and K easier to visualize now? How do you interpret the Gibbs energy change at: \n",
    "\n",
    "1. $K_{eq} = 10^{0}$?\n",
    "2. At $10^{-3}$?\n",
    "3. At $10^{3}$?\n",
    "\n",
    "Your answers here:"
   ]
  }
 ],
 "metadata": {
  "kernelspec": {
   "display_name": "Python 3 (ipykernel)",
   "language": "python",
   "name": "python3"
  },
  "language_info": {
   "codemirror_mode": {
    "name": "ipython",
    "version": 3
   },
   "file_extension": ".py",
   "mimetype": "text/x-python",
   "name": "python",
   "nbconvert_exporter": "python",
   "pygments_lexer": "ipython3",
   "version": "3.9.18"
  }
 },
 "nbformat": 4,
 "nbformat_minor": 5
}
