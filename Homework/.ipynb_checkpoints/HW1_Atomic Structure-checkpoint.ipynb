{
 "cells": [
  {
   "cell_type": "markdown",
   "id": "8758476d-a8ea-479f-b032-2dc14e95a625",
   "metadata": {},
   "source": [
    "# Homework #1: A Calculator for the Electronic Configuration of Ground State Atoms\n",
    "BIOL 6240 Fall 2024"
   ]
  },
  {
   "cell_type": "markdown",
   "id": "2c66bfe7-22be-4c0f-8bd1-21b8335ecb77",
   "metadata": {},
   "source": [
    "## Section 1: Electron Configuration\n",
    "\n",
    "* Goal: This program will take an atomic number and return an electron configuration.\n",
    "* Design: Use an index list to store the electron orbitals and subshells. Create a list to hold the configuration. Iterate the index list to fill the configuration list with the desired output.\n",
    "* Note: The configurations it can output do not cover the entire periodic table, just the first 5 rows.\n",
    "\n",
    "[Ref. Electron Configuration](https://en.wikipedia.org/wiki/Electron_configuration) "
   ]
  },
  {
   "cell_type": "markdown",
   "id": "70f05a60-56f9-470a-ad92-f711e64a9582",
   "metadata": {},
   "source": [
    "### Key  Programming Concepts\n",
    "Before we begin, let's discuss a few key python programming concepts we'll encounter in this exercise. "
   ]
  },
  {
   "cell_type": "code",
   "execution_count": null,
   "id": "98bfbb1a-19db-4894-8560-8394b1ac644b",
   "metadata": {},
   "outputs": [],
   "source": [
    "# A list contains elements that can be changed, and uses '[]'\n",
    "# Lists are changeable, and can contain different types of variables\n",
    "number_variable = 1\n",
    "print(number_variable)\n",
    "\n",
    "string_variable = 's'\n",
    "print(string_variable)\n",
    "\n",
    "orbital_list = [1, 's', 2]\n",
    "print(orbital_list)\n",
    "\n",
    "# Tuples use '()'. Tuples are like lists but are better for storing items that won't change\n",
    "# Lists can be filled with tuples\n",
    "\n",
    "orbitals = [(1, 's', 2), (2, 's', 2)]\n",
    "print(orbitals)\n",
    "\n",
    "# for-loops can iterate through each item in a list and perform specified actions\n",
    "# In the syntax we can make up stand-in names for the items\n",
    "# Note the use of the ':' and the indendation on the next line, these are important\n",
    "for n, l, max_electrons in orbitals: \n",
    "    print(n, l)\n",
    "\n",
    "# A function allows you to create modular code that can be easily reused. \n",
    "def output(text): \n",
    "    return print(text)\n",
    "\n",
    "# 'Call' the function by giving it some input\n",
    "output('This function will take input text, and print output text.')\n",
    "\n",
    "# Here's another instance\n",
    "output('Biochemistry Rocks!')\n",
    "\n",
    "# Finally, f-strings are a python convention for flexible printing\n",
    "# Here's one way to print\n",
    "print('there are 2 ways to print a statement')\n",
    "\n",
    "# f-strings allow instertion of variables direclty into the statement\n",
    "# takes the form (f'text {variables} text')\n",
    "ways_to_print = 2\n",
    "print(f'there are {ways_to_print} ways to print a statement')"
   ]
  },
  {
   "cell_type": "markdown",
   "id": "54a4ac6a-8ebd-4086-821c-191c4892851a",
   "metadata": {},
   "source": [
    "### Building the Calculator\n",
    "Let's work through the calculator step-by-step.."
   ]
  },
  {
   "cell_type": "code",
   "execution_count": null,
   "id": "64265de6-64e9-465c-bb3a-c25cce57bd68",
   "metadata": {},
   "outputs": [],
   "source": [
    "# Step 1- Create a list of subshell configurations\n",
    "\n",
    "# The list contains a series of tuples\n",
    "# Each tuple contains three elements: n, l, and max electrons\n",
    "orbitals = [\n",
    "        (1, 's', 2),\n",
    "        (2, 's', 2), (2, 'p', 6),\n",
    "        (3, 's', 2), (3, 'p', 6), (3, 'd', 10),\n",
    "        (4, 's', 2), (4, 'p', 6), (4, 'd', 10), (4, 'f', 14),\n",
    "        (5, 's', 2), (5, 'p', 6), (4, 'd', 10), (5, 'f', 14), (5, 'g', 18)\n",
    "    ]\n",
    "# print the list to examine it\n",
    "print(orbitals)"
   ]
  },
  {
   "cell_type": "code",
   "execution_count": null,
   "id": "3e328d67-9293-41b4-ad21-e89bde8f8a3b",
   "metadata": {},
   "outputs": [],
   "source": [
    "# Step 2- Create the program's control flow logic\n",
    "\n",
    "atomic_number = 8 # the atomic number of oxygen\n",
    "\n",
    "# Create a list to hold the configuration\n",
    "configuration = []\n",
    "remaining_electrons = atomic_number\n",
    "\n",
    "# Iterate the list and fill the array with an appropriate configuration\n",
    "# for each element, of each tuple, in the orbitals list...\n",
    "for n, l, max_electrons in orbitals:\n",
    "    # if there are remaining electrons,\n",
    "    if remaining_electrons > 0:\n",
    "        # The electrons assigned to the orbital is the smaller of remaining or max electrons\n",
    "        electrons_in_orbital = min(remaining_electrons, max_electrons)\n",
    "        # Add each filled subshell (tuple) to the configuration list \n",
    "        configuration.append(f\"{n}{l}^{electrons_in_orbital}\")\n",
    "            # Calculate the number of remaining electrons, and update the remaining_electrons variable\n",
    "        remaining_electrons -= electrons_in_orbital\n",
    "\n",
    "print(configuration)"
   ]
  },
  {
   "cell_type": "code",
   "execution_count": null,
   "id": "d5b97d33-19c0-4769-94ea-dd35e3dba2a6",
   "metadata": {},
   "outputs": [],
   "source": [
    "# Step 3- The final function\n",
    "def electron_configuration(atomic_number):\n",
    "    # Store the orbitals as a list of tuples\n",
    "    orbitals = [\n",
    "        (1, 's', 2),\n",
    "        (2, 's', 2), (2, 'p', 6),\n",
    "        (3, 's', 2), (3, 'p', 6), (3, 'd', 10),\n",
    "        (4, 's', 2), (4, 'p', 6), (4, 'd', 10), (4, 'f', 14),\n",
    "        (5, 's', 2), (5, 'p', 6), (4, 'd', 10), (5, 'f', 14), (5, 'g', 18)\n",
    "    ]\n",
    "\n",
    "    # Create an array to hold the configuration\n",
    "    configuration = []\n",
    "    remaining_electrons = atomic_number\n",
    "\n",
    "    # Iterate the list and fill the array with an appropriate configuration\n",
    "    for n, l, max_electrons in orbitals:\n",
    "        if remaining_electrons > 0:\n",
    "            electrons_in_orbital = min(remaining_electrons, max_electrons)\n",
    "            configuration.append(f\"{n}{l}^{electrons_in_orbital}\")\n",
    "            remaining_electrons -= electrons_in_orbital\n",
    "\n",
    "    return \" \".join(configuration)"
   ]
  },
  {
   "cell_type": "code",
   "execution_count": null,
   "id": "eb73462b-0a90-46dc-93e8-67dc34528ef0",
   "metadata": {},
   "outputs": [],
   "source": [
    "# Step 4- Try it out. Input any atomic number to see the configuration\n",
    "atomic_number = 8\n",
    "configuration = electron_configuration(atomic_number)\n",
    "print(configuration)\n",
    "\n",
    "# We can improve the readability of the function call by using f-strings\n",
    "atom, atomic_number = 'oxygen', 8\n",
    "print(f'The electron configuration for {atom} is {electron_configuration(atomic_number)}')"
   ]
  },
  {
   "cell_type": "markdown",
   "id": "378d21ce-24a1-400a-a041-4c9671959391",
   "metadata": {},
   "source": [
    "### Q1: How many orbitals does a ground state carbon atom have?\n",
    "\n",
    "Your answer here.."
   ]
  },
  {
   "cell_type": "markdown",
   "id": "e2604ad2-f4ae-421e-a439-6061fc732e10",
   "metadata": {},
   "source": [
    "### Q2: If $n=3$, what are the possible values of l?\n",
    "\n",
    "Your answer here.."
   ]
  },
  {
   "cell_type": "markdown",
   "id": "de02b0e2-2be8-4d5f-a716-0bf186a971bc",
   "metadata": {},
   "source": [
    "### Q3: Why is ground state hydrogen likely to be reactive, but ground state helium not likely to be reactive?\n",
    "\n",
    "Your answer here.."
   ]
  },
  {
   "cell_type": "markdown",
   "id": "b7e68320-7e31-4069-8af1-6770d58b4a1a",
   "metadata": {},
   "source": [
    "### Q4: Why are hydrogen, lithium, sodium, and potassium likely to exhibit similar chemical properties?\n",
    "\n",
    "Your answer here..."
   ]
  },
  {
   "cell_type": "markdown",
   "id": "fbef70bd-b05a-459f-9772-9dd992906ce3",
   "metadata": {},
   "source": [
    "### Q5: How many valence electrons does carbon have? ..Nitrogen? ..Oxygen?\n",
    "\n",
    "Your answers here.."
   ]
  },
  {
   "cell_type": "markdown",
   "id": "94209db0-2320-4997-9809-30ff95c795d0",
   "metadata": {},
   "source": [
    "## Section 2: Predicting Ionic Bond Formation\n",
    "* Goal: This program will take pairs of candidate bonding atoms and their corresponding atomic numbers and will determine whether the pair will be likely to form an ionic bond based on the electron orbital configuration.\n",
    "* Design: The program consists of a series of three `functions`:\n",
    "    * `electron_configuration()` determines the electron configuration for an input atomic number\n",
    "    * `valence_electrons()` determines the number of electrons in the valence shell\n",
    "    * `ionic_bond()` classifies as ionic bonding or not depending on a valency cutoff.\n",
    "* Notes: Once the code Main block has been run, the Function Call code block can be run to get the output. The Function Call block takes a dictionary containing information for ionic bonding pairs as inputs, and can perform the calculation on as many pairs as you like.\n",
    "\n",
    "[Ref. Ionic Bond Formation](https://en.wikipedia.org/wiki/Ionic_bonding)"
   ]
  },
  {
   "cell_type": "code",
   "execution_count": null,
   "id": "da909dd1-60e6-4277-88c9-98e9ef99067b",
   "metadata": {},
   "outputs": [],
   "source": [
    "# Main\n",
    "\n",
    "# Define the function to generate electron configuration\n",
    "def electron_configuration(atomic_number):\n",
    "    shells = []\n",
    "    remaining_electrons = atomic_number\n",
    "    shell_limits = [2, 8, 18, 32]  # Simplified shell limits\n",
    "    \n",
    "    for limit in shell_limits:\n",
    "        if remaining_electrons > 0:\n",
    "            if remaining_electrons >= limit:\n",
    "                shells.append(limit)\n",
    "                remaining_electrons -= limit\n",
    "            else:\n",
    "                shells.append(remaining_electrons)\n",
    "                remaining_electrons = 0\n",
    "    return shells\n",
    "\n",
    "# Define the function to calculate valence electrons\n",
    "def valence_electrons(atomic_number):\n",
    "    shells = electron_configuration(atomic_number)\n",
    "    return shells[-1] # returns the last element of the shells list\n",
    "\n",
    "# Function to predict ionic bond formation\n",
    "def ionic_bond(element1, atomic_number1, element2, atomic_number2):\n",
    "    valence_e1 = valence_electrons(atomic_number1)\n",
    "    valence_e2 = valence_electrons(atomic_number2)\n",
    "    \n",
    "    if valence_e1 <= 3:  # Metals tend to lose electrons\n",
    "        bond1 = valence_e1\n",
    "    else:\n",
    "        bond1 = 0\n",
    "        \n",
    "    if valence_e2 >= 5:  # Non-metals tend to gain electrons\n",
    "        bond2 = 8 - valence_e2\n",
    "    else:\n",
    "        bond2 = 0\n",
    "        \n",
    "    return bond1, bond2"
   ]
  },
  {
   "cell_type": "code",
   "execution_count": null,
   "id": "ef920645-dc13-4179-97ad-82c558619764",
   "metadata": {},
   "outputs": [],
   "source": [
    "# Function Call\n",
    "\n",
    "# Run the program using some example pairs\n",
    "pairs = {\n",
    "    (\"Sodium\", \"Chlorine\"): (11, 17),\n",
    "    (\"Lithium\", \"Sodium\"): (3, 11),\n",
    "}\n",
    "\n",
    "# Predict ionic bond formation for each pair\n",
    "for (element1, element2), (atomic_number1, atomic_number2) in pairs.items():\n",
    "    bond1, bond2 = ionic_bond(element1, atomic_number1, element2, atomic_number2)\n",
    "    if bond1 > 0 and bond2 > 0:\n",
    "        print(f\"{element1} (atomic number {atomic_number1}) can lose {bond1} electron(s) and {element2} (atomic number {atomic_number2}) can gain {bond2} electron(s) to form an ionic bond.\")\n",
    "    else:\n",
    "        print(f\"{element1} (atomic number {atomic_number1}) and {element2} (atomic number {atomic_number2}) will not form an ionic bond.\")"
   ]
  },
  {
   "cell_type": "markdown",
   "id": "55cdbd85-e1a0-4c30-a6fa-2986377a206a",
   "metadata": {},
   "source": [
    "### Q6: Will lithium and carbon form an ionic bond?\n",
    "\n",
    "your answer here.."
   ]
  },
  {
   "cell_type": "markdown",
   "id": "73a76735-c46d-4ac6-9dc9-9d4b6b78af58",
   "metadata": {},
   "source": [
    "### Q7: Pick a small atomic number, say 3 for lithium. Work through the control flow logic in the the electron_configuration() function by hand. What is the returned value of shells? Note: the .append() method adds an element to the end of a list.\n",
    "\n",
    "your answer here.."
   ]
  },
  {
   "cell_type": "markdown",
   "id": "a4d9aade-9b67-49e9-b078-4ad0d920c4af",
   "metadata": {},
   "source": [
    "### Q8: Why do first column elements in the periodic table form *monovalent* cations, why do second column elements tend to form *divalent* cations?\n",
    "\n",
    "your answer here.."
   ]
  },
  {
   "cell_type": "markdown",
   "id": "b6ff573e-53db-4847-9bae-7d6bf65b4718",
   "metadata": {},
   "source": [
    "### Q9: (Using a web search) find and briefly describe an experiment that proves ions exist.\n",
    "your answer here.."
   ]
  },
  {
   "cell_type": "markdown",
   "id": "f40b4efe-c612-4a69-b946-bc965bece990",
   "metadata": {},
   "source": [
    "### Q10: How do the bond energies ionic bonds compare with other bond types, such as covalent bonds? \n",
    "\n",
    "your answer here.."
   ]
  }
 ],
 "metadata": {
  "kernelspec": {
   "display_name": "Python 3 (ipykernel)",
   "language": "python",
   "name": "python3"
  },
  "language_info": {
   "codemirror_mode": {
    "name": "ipython",
    "version": 3
   },
   "file_extension": ".py",
   "mimetype": "text/x-python",
   "name": "python",
   "nbconvert_exporter": "python",
   "pygments_lexer": "ipython3",
   "version": "3.9.18"
  }
 },
 "nbformat": 4,
 "nbformat_minor": 5
}
