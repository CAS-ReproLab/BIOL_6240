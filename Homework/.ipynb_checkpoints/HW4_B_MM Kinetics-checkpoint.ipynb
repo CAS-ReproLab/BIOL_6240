{
 "cells": [
  {
   "cell_type": "markdown",
   "id": "9ea809f9-7732-47d9-a389-496d0e3750d9",
   "metadata": {},
   "source": [
    "# Michaelis-Menten Enzyme Kinetics\n",
    "\n",
    "For this exercise we'll explore quantitative models of simple enzyme kinetics as an `initial value problem`, meaning that we will develop an expression that describes how our system changes (a.k.a differential equation) and we'll use the differential equation to find a set of solutions for a specific set of starting conditions. \n",
    "\n",
    "**Skills you will practice**: \n",
    "* Import/use libraries\n",
    "* Define functions\n",
    "* Implement Control Flow\n",
    "* Plot with Matplotlib.pyplot\n",
    "* Use f strings\n",
    "* Index lists"
   ]
  },
  {
   "cell_type": "markdown",
   "id": "d5c8d86e-2caf-4eb0-b4e9-22b43fb6d78e",
   "metadata": {},
   "source": [
    "## Basic Enzyme Kinetics\n",
    "\n",
    "The Michaelis-Menten rate equation is a cornerstone of enzyme kinetics, offering a mathematical description of how the rate of an enzyme-catalyzed reaction depends on the intrinsic properties of the enzyme as well as concentration of the substrate. The development of this equation from first principles involves several key assumptions and steps, which are outlined below.\n",
    "\n",
    "**Assumptions**\n",
    "\n",
    "1. The reaction involves an enzyme (E) binding to a substrate (S) to form an enzyme-substrate complex (ES), which then releases a product (P), regenerating the free enzyme. Note that we're using substrate in place of 'product' here in keeping with the original notation in Michaelis and Menten's classic paper for which this kinetic model is named. The model can be represented as two steps:\n",
    "   $$\\textcolor{aquamarine}{E + S \\overset{k_1}{\\underset{k_{-1}}{\\rightleftharpoons}} ES \\overset{k_2}{\\rightarrow} E + P}$$\n",
    "   Here, $k_1$, $k_{-1}$, and $k_2$ are the rate constants for the forward reaction, the reverse reaction, and the conversion of ES into E and P, respectively.\n",
    "\n",
    "2. The concentration of the substrate is much larger than the concentration of the enzyme, allowing us to consider the enzyme concentration as essentially constant during the reaction.\n",
    "\n",
    "3. The reaction reaches a steady state where the formation rate of the ES complex equals its dissociation rate (into E + S and E + P). This implies that the rate of change of [ES] with time is approximately zero after the initial transient phase."
   ]
  },
  {
   "cell_type": "markdown",
   "id": "df7d82ce-ae46-4f54-bb0d-f856ff141384",
   "metadata": {},
   "source": [
    "## Derivation of the rate equation\n",
    "\n",
    "Given the assumptions, the rate of formation of the product P can be described by the rate of the ES complex conversion into E and P:\n",
    "\n",
    "Rate of product formation: $$\\textcolor{aquamarine}{\\frac{d[P]}{dt} = k_2[ES]}$$\n",
    "\n",
    "The steady-state assumption for [ES] gives us:\n",
    "$$\\textcolor{aquamarine}{\\frac{d[ES]}{dt} = k_1[E][S] - k_{-1}[ES] - k_2[ES] = 0}$$\n",
    "\n",
    "Solving this equation for [ES] gives:\n",
    "$$\\textcolor{aquamarine}{[ES] = \\frac{k_1[E][S]}{k_{-1} + k_2}}$$\n",
    "\n",
    "Considering the total enzyme concentration [E]$_{total}$ = [E] + [ES], and solving for [E] gives:\n",
    "$$\\textcolor{aquamarine}{[E] = [E]_{total} - [ES]}$$\n",
    "\n",
    "Substituting [E] in the equation for [ES] and solving for [ES], we find:\n",
    "$$\\textcolor{aquamarine}{[ES] = \\frac{[E]_{total}[S]}{K_M + [S]}}$$\n",
    "\n",
    "Where $K_M = \\frac{k_{-1} + k_2}{k_1}$ is defined as the Michaelis constant, representing the substrate concentration at which the reaction rate is half of its maximum value. Therefore, the rate of product formation (which is also the rate of the reaction) can be written as:\n",
    "$$\\textcolor{aquamarine}{\\frac{d[P]}{dt} = \\frac{V_{max}[S]}{K_M + [S]}}$$\n",
    "\n",
    "$V_{max}$ is the maximum rate of the reaction when all the enzyme is bound to the substrate, which is $k_2[E]_{total}$."
   ]
  },
  {
   "cell_type": "markdown",
   "id": "1bcadf01-ce7a-4eab-ad76-fb09d3d997a2",
   "metadata": {},
   "source": [
    "## Question #1: Describe the MM kinetic model in your own words\n",
    "\n",
    "Your answer here:"
   ]
  },
  {
   "cell_type": "markdown",
   "id": "4b6faf62-1cd2-4526-8b3e-0decda412c2b",
   "metadata": {},
   "source": [
    "### Question #2: Draw of diagram of an enzyme catalyzed reaction on paper or the dry erase board.\n",
    "\n",
    "Don't worry about uploading the picture.."
   ]
  },
  {
   "cell_type": "markdown",
   "id": "338eb544-e36f-43cd-a87a-b11adbee1fa9",
   "metadata": {},
   "source": [
    "## Python Program #1: Reaction Velocity\n",
    "\n",
    "How would we experimentally determine the $K_m$ and $V_{max}$ for an enzyme catalyzed reaction? \n",
    "\n",
    "We would need to set up a series of reactions for which the enzyme concentrations (and any other relevant reaction conditions) were not reaction limiting. We could do this by providing 'excess' enzyme and keeping the pH and ionic strength of the reaction buffer constant. Then we would systematically vary the substrate concentration for each reaction. Often these are performed using microtiter plates on a spectrophotometer or fluorometer. \n",
    "\n",
    "At the onset of the reaction, the initial velocity will be only limited by the substrate concentration. \n",
    "\n",
    "In the following program, we will simulate such an experiment. \n",
    "\n",
    "The programming steps are as follows: \n",
    "\n",
    "1. import necessary libraries\n",
    "2. Define the model function (MM equation)\n",
    "3. Define the model parameters (constants)\n",
    "4. Run the model by calling the function\n",
    "5. Plot the results using matplotlib.pyplot\n",
    "\n",
    "Note that the reaction velocities here are the `initial velocities` when the the substrate concentrations have not changed enough during the reaction to cause them to slow down. "
   ]
  },
  {
   "cell_type": "code",
   "execution_count": null,
   "id": "6ebed560-24e0-48e8-82d0-09e2ef7b7a5d",
   "metadata": {},
   "outputs": [],
   "source": [
    "# Visualize Reaction Velocity as a function of Substrate Concentration\n",
    "import numpy as np\n",
    "import matplotlib.pyplot as plt\n",
    "\n",
    "def Michaelis_Menten(Km, Vmax, S):\n",
    "    v = (Vmax * S) / (Km + S)\n",
    "    return v\n",
    "\n",
    "# Parameters\n",
    "Km = 5 # mmoles/s\n",
    "Vmax = 20 # mmole/L\n",
    "Substrate = np.arange(0, 100, 10)  # Corrected to give a reasonable range\n",
    "\n",
    "# Run the Model\n",
    "Velocity = Michaelis_Menten(Km, Vmax, Substrate)  # Corrected variable\n",
    "\n",
    "# Plot the results\n",
    "plt.style.use('dark_background')\n",
    "plt.scatter(Substrate, Velocity)\n",
    "plt.xlabel('Substrate Concentration (mmole/L)')\n",
    "plt.ylabel('Reaction Velocity (mmole/s)')\n",
    "plt.title('Velocity V. Substrate')\n",
    "plt.show()"
   ]
  },
  {
   "cell_type": "markdown",
   "id": "4150be30-2276-406d-a80a-62b444ff3762",
   "metadata": {},
   "source": [
    "## Question #3: Interpreting the data\n",
    "\n",
    "For this simulation the $K_m$ and $V_{max}$ are parameters. But imagine that you plotted this curve from data you collected in the lab. How would you determine the $V_{max}$ and $K_m$ from the data? \n",
    "\n",
    "Your Answer Here: "
   ]
  },
  {
   "cell_type": "markdown",
   "id": "69df202a-24c6-4cb8-9620-ebe903a2ed50",
   "metadata": {},
   "source": [
    "## Python Programming Exercise #2\n",
    "\n",
    "Once we've determined the $K_m$ and $V_{max}$ for our enzyme of interest, we can use the michaelis-menten kinetic model to simulate the product formation/substrate consumption over time. \n",
    "\n",
    "The program below will find the solution to our differential equation given an initial value and some input parameters. Note that it is using a method called `numerical integration` to add up all of the anticipated change in your MM equation to predict the substrate concentration and product formation over time. \n",
    "\n",
    "If you're interested in using Python to solve these kinds of problems in your research, this program is a powerful template to follow. For example, you could extend this program to model population growth, radioactive decay, mRNA degradation, transcription, etc. The program uses the [solve_ivp](https://docs.scipy.org/doc/scipy/reference/generated/scipy.integrate.solve_ivp.html) method from the scipy library.\n",
    "\n",
    "The programming steps are as follows: \n",
    "\n",
    "1. import necessary libraries\n",
    "2. Define the ordinary differential equation as a python function\n",
    "3. Store the model parameters as variables\n",
    "4. Create an array to store the x-axis data (time; simulation range)\n",
    "5. Store the initials conditions for substrate and product concentrations\n",
    "6. Run the solver\n",
    "7. Plot the results"
   ]
  },
  {
   "cell_type": "code",
   "execution_count": null,
   "id": "720ba5ff-c915-490f-b97c-ad401586b119",
   "metadata": {},
   "outputs": [],
   "source": [
    "# Import libraries\n",
    "from scipy.integrate import solve_ivp\n",
    "import numpy as np\n",
    "import matplotlib.pyplot as plt\n",
    "\n",
    "# Set up the ODE\n",
    "def michaelis_menten(t, z, Vmax, Km):\n",
    "    S, P = z\n",
    "    dSdt = -Vmax * S / (Km + S)\n",
    "    dPdt = Vmax * S / (Km + S)\n",
    "    return [dSdt, dPdt]\n",
    "\n",
    "# Parameters\n",
    "Vmax = 20 # mmoles/s\n",
    "Km = 5 # mmoles/L\n",
    "\n",
    "# simulation range\n",
    "t_span = (0, 15) # time in seconds\n",
    "\n",
    "# simulation points\n",
    "t_eval = np.linspace(t_span[0], t_span[1], 1000) # Creates an array with 1000 points between the specified timespan in t_span\n",
    "\n",
    "# Initial Conditions\n",
    "z0 = [100, 0] # Starting Concentrations of Substrate and Product respectively (mmoles/L)\n",
    "\n",
    "# Set up the solver\n",
    "sol=solve_ivp(michaelis_menten, t_span, z0, args = (Vmax, Km), t_eval=t_eval)\n",
    "\n",
    "# Plot the results\n",
    "plt.style.use('dark_background')\n",
    "plt.plot(sol.t, sol.y[0], label = 'Substrate Concentration')\n",
    "plt.plot(sol.t, sol.y[1], label = 'Product Concentration')\n",
    "plt.xlabel('Time (s)')\n",
    "plt.ylabel('Substrate Concentration (moles/L)')\n",
    "plt.legend()\n",
    "plt.title('Michaelis-Menten Kinetics')\n",
    "plt.show()"
   ]
  },
  {
   "cell_type": "markdown",
   "id": "7eb31529-de72-44c6-8fe9-aff6e743d658",
   "metadata": {},
   "source": [
    "## Review of Key Assumptions of the MM model\n",
    "\n",
    "1. **Binary Complex Formation**: The model assumes that the reaction involves a simple binary complex formed between the enzyme (E) and the substrate (S), leading to the enzyme-substrate complex (ES). The reaction can be summarized in two main steps:\n",
    "   - The enzyme binds to the substrate to form the ES complex: $E + S \\overset{k_1}{\\rightarrow} ES$.\n",
    "   - The ES complex then either dissociates back into E and S, or proceeds to form the product (P) while releasing the enzyme: $ES \\overset{k_{-1}}{\\rightarrow} E + S$ or $ES \\overset{k_2}{\\rightarrow} E + P$.\n",
    "\n",
    "2. **Steady-State Assumption**: The model assumes that the concentration of the ES complex remains constant over the course of the reaction, after an initial transient phase. This means that the rate of formation of the ES complex equals the rate of its breakdown into either E + S or E + P.\n",
    "\n",
    "3. **Initial Substrate Concentration Predominance**: It is assumed that the substrate concentration $([S])$ is much larger than the enzyme concentration $([E])$, allowing the approximation that the substrate concentration remains relatively constant during the initial phase of the reaction.\n",
    "\n",
    "4. **Irreversible Product Formation**: The reaction from ES to E + P is considered to be irreversible under the conditions of the experiment, meaning the product does not convert back into the substrate or form the ES complex under the reaction conditions.\n",
    "\n",
    "5. **Rapid Equilibrium**: Alternatively, in some interpretations, the model can assume that the formation and dissociation of the ES complex reach a rapid equilibrium before the product is formed, characterized by a dissociation constant $(K_d)$.\n",
    "\n",
    "6. **Saturability**: The model implies that there is a maximal rate $(V_{max})$ of the reaction, achieved when all enzyme molecules are bound to substrate molecules (i.e., when the enzyme is saturated with substrate). The relationship between reaction rate and substrate concentration follows a hyperbolic curve, reflecting the saturable nature of enzyme activity.\n"
   ]
  },
  {
   "cell_type": "markdown",
   "id": "5a3dd424-0602-4c92-b057-f2449f4bce21",
   "metadata": {},
   "source": [
    "## Python Programming Exercise #3: \n",
    "\n",
    "Different enzymes have different $K_m$ values. This is a measure of how `sensitive` the reaction rate is to substrate concentration. \n",
    "\n",
    "The following program plots the output for three different enzymes, each with different values of $K_m$. It also creates subplots to visualize how product concentration changes as a function of substrate concentration for each enzyme. "
   ]
  },
  {
   "cell_type": "markdown",
   "id": "97b8a437-951e-4b86-96f6-bfbe294c3e5f",
   "metadata": {},
   "source": [
    "### Solution to Expanded Plotting Challenge"
   ]
  },
  {
   "cell_type": "code",
   "execution_count": null,
   "id": "8ee449b3-5e05-430e-b9ef-6942928925d7",
   "metadata": {},
   "outputs": [],
   "source": [
    "# Import libraries\n",
    "from scipy.integrate import solve_ivp\n",
    "import numpy as np\n",
    "import matplotlib.pyplot as plt\n",
    "\n",
    "# Set up the ODE\n",
    "def michaelis_menten(t, z, Vmax, Km):\n",
    "    S, P = z\n",
    "    dSdt = -Vmax * S / (Km + S)\n",
    "    dPdt = Vmax * S / (Km + S)\n",
    "    return [dSdt, dPdt]\n",
    "\n",
    "# Parameters\n",
    "Vmax = 50 # moles/s\n",
    "Km_values = [10, 30, 60] # moles/L; For each enzyme A, B, and C respectively\n",
    "\n",
    "# simulation range\n",
    "t_span = (0, 5)\n",
    "\n",
    "# simulation points\n",
    "t_eval = np.linspace(t_span[0], t_span[1], 1000)\n",
    "\n",
    "# Initial Conditions\n",
    "z0 = [10, 0]\n",
    "\n",
    "# Initiate the figure panel\n",
    "plt.figure(figsize=(12,5))\n",
    "\n",
    "# Set up the IVP solver\n",
    "for Km in Km_values:\n",
    "    # Run the solver\n",
    "    sol=solve_ivp(michaelis_menten, t_span, z0, args = (Vmax, Km), t_eval=t_eval)\n",
    "    \n",
    "    # Plot substrate concentration\n",
    "    with plt.style.context('dark_background'):\n",
    "        plt.subplot(1,2,1)\n",
    "        plt.plot(sol.t, sol.y[0], label = f' [S], Km = {Km}')\n",
    "        plt.xlabel('Time (s)')\n",
    "        plt.ylabel('Substrate Concentration (moles/L)')\n",
    "        plt.legend()\n",
    "\n",
    "        # plot product concentration\n",
    "        plt.subplot(1,2,2)\n",
    "        plt.plot(sol.t, sol.y[1], label = f' [P], Km = {Km}')\n",
    "        plt.xlabel('Time (s)')\n",
    "        plt.ylabel('Product Concentration (moles/L)')\n",
    "        plt.legend()\n",
    "    \n",
    "# Make the plots\n",
    "plt.tight_layout()\n",
    "plt.show()"
   ]
  },
  {
   "cell_type": "markdown",
   "id": "b3824930-4e37-43df-b9c7-a8f4c268e07d",
   "metadata": {},
   "source": [
    "## Question #4: How would you describe the relationship between $K_m$ and apparent reaction rate for these different enzymes? \n",
    "\n",
    "Your answer here:"
   ]
  },
  {
   "cell_type": "markdown",
   "id": "b7245c68-4fa7-4a3d-a0fd-e31cdd450a3d",
   "metadata": {
    "jp-MarkdownHeadingCollapsed": true
   },
   "source": [
    "## Open-Ended Challenge\n",
    "\n",
    "Extend the Michaelis-Menten model to incorporate the effects of enzyme inhitors of different types. E.g. Reversible and Irreversible. The details of these models can be found in any basic biochemistry text or [here](https://en.wikipedia.org/wiki/Enzyme_kinetics)."
   ]
  }
 ],
 "metadata": {
  "kernelspec": {
   "display_name": "Python 3 (ipykernel)",
   "language": "python",
   "name": "python3"
  },
  "language_info": {
   "codemirror_mode": {
    "name": "ipython",
    "version": 3
   },
   "file_extension": ".py",
   "mimetype": "text/x-python",
   "name": "python",
   "nbconvert_exporter": "python",
   "pygments_lexer": "ipython3",
   "version": "3.9.18"
  }
 },
 "nbformat": 4,
 "nbformat_minor": 5
}
