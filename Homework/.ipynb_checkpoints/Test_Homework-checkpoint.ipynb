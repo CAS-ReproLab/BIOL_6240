{
 "cells": [
  {
   "cell_type": "markdown",
   "id": "654edb0c-2c53-4c8f-b321-934766629219",
   "metadata": {},
   "source": [
    "# Test Homework"
   ]
  },
  {
   "cell_type": "code",
   "execution_count": null,
   "id": "a96a9faa-18cc-4d1d-a8dc-bb4ffeb8cac8",
   "metadata": {},
   "outputs": [],
   "source": [
    "print('biochem rocks!')"
   ]
  }
 ],
 "metadata": {
  "kernelspec": {
   "display_name": "Python 3 (ipykernel)",
   "language": "python",
   "name": "python3"
  },
  "language_info": {
   "codemirror_mode": {
    "name": "ipython",
    "version": 3
   },
   "file_extension": ".py",
   "mimetype": "text/x-python",
   "name": "python",
   "nbconvert_exporter": "python",
   "pygments_lexer": "ipython3",
   "version": "3.9.18"
  }
 },
 "nbformat": 4,
 "nbformat_minor": 5
}
