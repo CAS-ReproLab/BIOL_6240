{
 "cells": [
  {
   "cell_type": "markdown",
   "id": "8758476d-a8ea-479f-b032-2dc14e95a625",
   "metadata": {},
   "source": [
    "# Homework #1: Atomic Structure and the Formation of Bonds"
   ]
  },
  {
   "cell_type": "markdown",
   "id": "2c66bfe7-22be-4c0f-8bd1-21b8335ecb77",
   "metadata": {},
   "source": [
    "## Section 1: Electron Configuration\n",
    "\n",
    "* Goal: This program will take an atomic number and return an electron configuration.\n",
    "* Design: Use an index list of tuples to store the electron orbitals and subshells. Create a list to hold the configuration. Iterate the index list to fill the configuration list with the desired output.\n",
    "* Note: The configurations it can output do not cover the entire periodic table, just the first 5 rows.\n",
    "\n",
    "[Ref. Electron Configuration](https://en.wikipedia.org/wiki/Electron_configuration) "
   ]
  },
  {
   "cell_type": "markdown",
   "id": "70f05a60-56f9-470a-ad92-f711e64a9582",
   "metadata": {},
   "source": [
    "### Key  Programming Concepts\n",
    "Before we begin, let's discuss a few key python programming concepts we'll encounter in this exercise. "
   ]
  },
  {
   "cell_type": "code",
   "execution_count": 30,
   "id": "98bfbb1a-19db-4894-8560-8394b1ac644b",
   "metadata": {},
   "outputs": [
    {
     "name": "stdout",
     "output_type": "stream",
     "text": [
      "1\n",
      "s\n",
      "[1, 's', 2]\n",
      "[(1, 's', 2), (2, 's', 2)]\n",
      "1 s\n",
      "2 s\n",
      "This function will take input text, and print output text.\n",
      "Biochemistry Rocks!\n",
      "there are 2 ways to print a statement\n",
      "there are 2 ways to print a statement\n"
     ]
    }
   ],
   "source": [
    "# A list contains elements that can be changed, and uses '[]'\n",
    "# Lists are changeable, and can contain different types of variables\n",
    "number_variable = 1\n",
    "print(number_variable)\n",
    "\n",
    "string_variable = 's'\n",
    "print(string_variable)\n",
    "\n",
    "orbital_list = [1, 's', 2]\n",
    "print(orbital_list)\n",
    "\n",
    "# Tuples use '()'. Tuples are like lists but are better for storing items that won't change\n",
    "# Lists can be filled with tuples\n",
    "\n",
    "orbitals = [(1, 's', 2), (2, 's', 2)]\n",
    "print(orbitals)\n",
    "\n",
    "# for-loops can iterate through each item in a list and perform specified actions\n",
    "# In the syntax we can make up stand-in names for the items\n",
    "# Note the use of the ':' and the indendation on the next line, these are important\n",
    "for n, l, max_electrons in orbitals: \n",
    "    print(n, l)\n",
    "\n",
    "# A function allows you to create modular code that can be easily reused. \n",
    "def output(text): \n",
    "    return print(text)\n",
    "\n",
    "# 'Call' the function by giving it some input\n",
    "output('This function will take input text, and print output text.')\n",
    "\n",
    "# Here's another instance\n",
    "output('Biochemistry Rocks!')\n",
    "\n",
    "# Finally, f-strings are a python convention for flexible printing\n",
    "# Here's one way to print\n",
    "print('there are 2 ways to print a statement')\n",
    "\n",
    "# f-strings allow instertion of variables direclty into the statement\n",
    "# takes the form (f'text {variables} text')\n",
    "ways_to_print = 2\n",
    "print(f'there are {ways_to_print} ways to print a statement')"
   ]
  },
  {
   "cell_type": "markdown",
   "id": "54a4ac6a-8ebd-4086-821c-191c4892851a",
   "metadata": {},
   "source": [
    "### Building the Calculator\n",
    "Let's work through the calculator step-by-step.."
   ]
  },
  {
   "cell_type": "code",
   "execution_count": 47,
   "id": "64265de6-64e9-465c-bb3a-c25cce57bd68",
   "metadata": {},
   "outputs": [
    {
     "name": "stdout",
     "output_type": "stream",
     "text": [
      "[(1, 's', 2), (2, 's', 2), (2, 'p', 6), (3, 's', 2), (3, 'p', 6), (3, 'd', 10), (4, 's', 2), (4, 'p', 6), (4, 'd', 10), (4, 'f', 14), (5, 's', 2), (5, 'p', 6), (4, 'd', 10), (5, 'f', 14), (5, 'g', 18)]\n"
     ]
    }
   ],
   "source": [
    "# Step 1- Create a list of subshell configurations\n",
    "\n",
    "# The list contains a series of tuples\n",
    "# Each tuple contains three elements: n, l, and max electrons\n",
    "orbitals = [\n",
    "        (1, 's', 2),\n",
    "        (2, 's', 2), (2, 'p', 6),\n",
    "        (3, 's', 2), (3, 'p', 6), (3, 'd', 10),\n",
    "        (4, 's', 2), (4, 'p', 6), (4, 'd', 10), (4, 'f', 14),\n",
    "        (5, 's', 2), (5, 'p', 6), (4, 'd', 10), (5, 'f', 14), (5, 'g', 18)\n",
    "    ]\n",
    "# print the list to examine it\n",
    "print(orbitals)"
   ]
  },
  {
   "cell_type": "code",
   "execution_count": 32,
   "id": "3e328d67-9293-41b4-ad21-e89bde8f8a3b",
   "metadata": {},
   "outputs": [
    {
     "name": "stdout",
     "output_type": "stream",
     "text": [
      "['1s^2', '2s^2', '2p^4']\n"
     ]
    }
   ],
   "source": [
    "# Step 2- Create the program's control flow logic\n",
    "\n",
    "atomic_number = 8 # the atomic number of oxygen\n",
    "\n",
    "# Create a list to hold the configuration\n",
    "configuration = []\n",
    "remaining_electrons = atomic_number\n",
    "\n",
    "# Iterate the list and fill the array with an appropriate configuration\n",
    "# for each element, of each tuple, in the orbitals list...\n",
    "for n, l, max_electrons in orbitals:\n",
    "    # if there are remaining electrons,\n",
    "    if remaining_electrons > 0:\n",
    "        # The electrons assigned to the orbital is the smaller of remaining or max electrons\n",
    "        electrons_in_orbital = min(remaining_electrons, max_electrons)\n",
    "        # Add each filled subshell (tuple) to the configuration list \n",
    "        configuration.append(f\"{n}{l}^{electrons_in_orbital}\")\n",
    "            # Calculate the number of remaining electrons, and update the remaining_electrons variable\n",
    "        remaining_electrons -= electrons_in_orbital\n",
    "\n",
    "print(configuration)"
   ]
  },
  {
   "cell_type": "code",
   "execution_count": 33,
   "id": "d5b97d33-19c0-4769-94ea-dd35e3dba2a6",
   "metadata": {},
   "outputs": [],
   "source": [
    "# Step 3- The final function\n",
    "def electron_configuration(atomic_number):\n",
    "    # Store the orbitals as a list of tuples\n",
    "    orbitals = [\n",
    "        (1, 's', 2),\n",
    "        (2, 's', 2), (2, 'p', 6),\n",
    "        (3, 's', 2), (3, 'p', 6), (3, 'd', 10),\n",
    "        (4, 's', 2), (4, 'p', 6), (4, 'd', 10), (4, 'f', 14),\n",
    "        (5, 's', 2), (5, 'p', 6), (4, 'd', 10), (5, 'f', 14), (5, 'g', 18)\n",
    "    ]\n",
    "\n",
    "    # Create an array to hold the configuration\n",
    "    configuration = []\n",
    "    remaining_electrons = atomic_number\n",
    "\n",
    "    # Iterate the list and fill the array with an appropriate configuration\n",
    "    for n, l, max_electrons in orbitals:\n",
    "        if remaining_electrons > 0:\n",
    "            electrons_in_orbital = min(remaining_electrons, max_electrons)\n",
    "            configuration.append(f\"{n}{l}^{electrons_in_orbital}\")\n",
    "            remaining_electrons -= electrons_in_orbital\n",
    "\n",
    "    return \" \".join(configuration)"
   ]
  },
  {
   "cell_type": "code",
   "execution_count": 46,
   "id": "eb73462b-0a90-46dc-93e8-67dc34528ef0",
   "metadata": {},
   "outputs": [
    {
     "name": "stdout",
     "output_type": "stream",
     "text": [
      "1s^2 2s^2 2p^4\n",
      "The electron configuration for oxygen is 1s^2 2s^2 2p^4\n"
     ]
    }
   ],
   "source": [
    "# Step 4- Try it out. Input any atomic number to see the configuration\n",
    "atomic_number = 8\n",
    "configuration = electron_configuration(atomic_number)\n",
    "print(configuration)\n",
    "\n",
    "# We can improve the readability of the function call by using f-strings\n",
    "atom, atomic_number = 'oxygen', 8\n",
    "print(f'The electron configuration for {atom} is {electron_configuration(atomic_number)}')"
   ]
  },
  {
   "cell_type": "markdown",
   "id": "378d21ce-24a1-400a-a041-4c9671959391",
   "metadata": {},
   "source": [
    "### Q1: How many orbitals does a ground state carbon atom have?\n",
    "\n",
    "Your answer here.."
   ]
  },
  {
   "cell_type": "markdown",
   "id": "e2604ad2-f4ae-421e-a439-6061fc732e10",
   "metadata": {},
   "source": [
    "### Q2: If $n=3$, what are the possible values of l?\n",
    "\n",
    "Your answer here.."
   ]
  },
  {
   "cell_type": "markdown",
   "id": "de02b0e2-2be8-4d5f-a716-0bf186a971bc",
   "metadata": {},
   "source": [
    "### Q3: Why is ground state hydrogen likely to be reactive, but ground state helium not likely to be reactive?\n",
    "\n",
    "Your answer here.."
   ]
  },
  {
   "cell_type": "markdown",
   "id": "b7e68320-7e31-4069-8af1-6770d58b4a1a",
   "metadata": {},
   "source": [
    "### Q4: Why are hydrogen, lithium, sodium, and potassium likely to exhibit similar chemical properties?\n",
    "\n",
    "Your answer here..."
   ]
  },
  {
   "cell_type": "markdown",
   "id": "fbef70bd-b05a-459f-9772-9dd992906ce3",
   "metadata": {},
   "source": [
    "### Q5: How many valence electrons does carbon have? ..Nitrogen? ..Oxygen?\n",
    "\n",
    "Your answers here.."
   ]
  },
  {
   "cell_type": "markdown",
   "id": "94209db0-2320-4997-9809-30ff95c795d0",
   "metadata": {},
   "source": [
    "## Section 2: Ionic Bond Formation\n",
    "* Goal: This program will take pairs of candidate bonding atoms and their corresponding atomic numbers and will determine whether the pair will be likely to form an ionic bond based on the electron orbital configuration.\n",
    "* Design: The program consists of a series of three `functions`:\n",
    "    * `electron_configuration()` determines the electron configuration for an input atomic number\n",
    "    * `valence_electrons()` determines the number of electrons in the valence shell\n",
    "    * `ionic_bond()` classifies as ionic bonding or not depending on a valency cutoff.\n",
    "* Notes: Once the code Main block has been run, the Function Call code block can be run to get the output. The Function Call block takes a dictionary containing information for ionic bonding pairs as inputs, and can perform the calculation on as many pairs as you like.\n",
    "\n",
    "[Ref. Ionic Bond Formation](https://en.wikipedia.org/wiki/Ionic_bonding)"
   ]
  },
  {
   "cell_type": "code",
   "execution_count": 69,
   "id": "da909dd1-60e6-4277-88c9-98e9ef99067b",
   "metadata": {},
   "outputs": [],
   "source": [
    "# Main\n",
    "\n",
    "# Define the function to generate electron configuration\n",
    "def electron_configuration(atomic_number):\n",
    "    shells = []\n",
    "    remaining_electrons = atomic_number\n",
    "    shell_limits = [2, 8, 18, 32]  # Simplified shell limits\n",
    "    \n",
    "    for limit in shell_limits:\n",
    "        if remaining_electrons > 0:\n",
    "            if remaining_electrons >= limit:\n",
    "                shells.append(limit)\n",
    "                remaining_electrons -= limit\n",
    "            else:\n",
    "                shells.append(remaining_electrons)\n",
    "                remaining_electrons = 0\n",
    "    return shells\n",
    "\n",
    "# Define the function to calculate valence electrons\n",
    "def valence_electrons(atomic_number):\n",
    "    shells = electron_configuration(atomic_number)\n",
    "    return shells[-1] # returns the last element of the shells list\n",
    "\n",
    "# Function to predict ionic bond formation\n",
    "def ionic_bond(element1, atomic_number1, element2, atomic_number2):\n",
    "    valence_e1 = valence_electrons(atomic_number1)\n",
    "    valence_e2 = valence_electrons(atomic_number2)\n",
    "    \n",
    "    if valence_e1 <= 3:  # Metals tend to lose electrons\n",
    "        bond1 = valence_e1\n",
    "    else:\n",
    "        bond1 = 0\n",
    "        \n",
    "    if valence_e2 >= 5:  # Non-metals tend to gain electrons\n",
    "        bond2 = 8 - valence_e2\n",
    "    else:\n",
    "        bond2 = 0\n",
    "        \n",
    "    return bond1, bond2"
   ]
  },
  {
   "cell_type": "code",
   "execution_count": 68,
   "id": "ef920645-dc13-4179-97ad-82c558619764",
   "metadata": {},
   "outputs": [
    {
     "name": "stdout",
     "output_type": "stream",
     "text": [
      "Sodium (atomic number 11) can lose 1 electron(s) and Chlorine (atomic number 17) can gain 1 electron(s) to form an ionic bond.\n",
      "Lithium (atomic number 3) and Sodium (atomic number 11) will not form an ionic bond.\n"
     ]
    }
   ],
   "source": [
    "# Function Call\n",
    "\n",
    "# Run the program using some example pairs\n",
    "pairs = {\n",
    "    (\"Sodium\", \"Chlorine\"): (11, 17),\n",
    "    (\"Lithium\", \"Sodium\"): (3, 11),\n",
    "}\n",
    "\n",
    "# Predict ionic bond formation for each pair\n",
    "for (element1, element2), (atomic_number1, atomic_number2) in pairs.items():\n",
    "    bond1, bond2 = ionic_bond(element1, atomic_number1, element2, atomic_number2)\n",
    "    if bond1 > 0 and bond2 > 0:\n",
    "        print(f\"{element1} (atomic number {atomic_number1}) can lose {bond1} electron(s) and {element2} (atomic number {atomic_number2}) can gain {bond2} electron(s) to form an ionic bond.\")\n",
    "    else:\n",
    "        print(f\"{element1} (atomic number {atomic_number1}) and {element2} (atomic number {atomic_number2}) will not form an ionic bond.\")"
   ]
  },
  {
   "cell_type": "markdown",
   "id": "55cdbd85-e1a0-4c30-a6fa-2986377a206a",
   "metadata": {},
   "source": [
    "### Q6: Will lithium and carbon form an ionic bond?\n",
    "\n",
    "your answer here.."
   ]
  },
  {
   "cell_type": "markdown",
   "id": "73a76735-c46d-4ac6-9dc9-9d4b6b78af58",
   "metadata": {},
   "source": [
    "### Q7: Pick a small atomic number, say 3 for lithium. Work through the control flow logic in the the electron_configuration() function by hand. What is the returned value of shells? Note: the .append() method adds an element to the end of a list.\n",
    "\n",
    "your answer here.."
   ]
  },
  {
   "cell_type": "markdown",
   "id": "a4d9aade-9b67-49e9-b078-4ad0d920c4af",
   "metadata": {},
   "source": [
    "### Q8: Why do first column elements in the periodic table form *monovalent* cations, why do second column elements tend to form *divalent* cations?\n",
    "\n",
    "your answer here.."
   ]
  },
  {
   "cell_type": "markdown",
   "id": "b6ff573e-53db-4847-9bae-7d6bf65b4718",
   "metadata": {},
   "source": [
    "### Q9: (Using a web search) find and briefly describe an experiment that proves ions exist.\n",
    "your answer here.."
   ]
  },
  {
   "cell_type": "markdown",
   "id": "f40b4efe-c612-4a69-b946-bc965bece990",
   "metadata": {},
   "source": [
    "### Q10: How do the bond energies ionic bonds compare with other bond types, such as covalent bonds? \n",
    "\n",
    "your answer here.."
   ]
  },
  {
   "cell_type": "markdown",
   "id": "e6cd1597-daf5-469e-b2c3-22862670ebb0",
   "metadata": {},
   "source": [
    "## Section 3: Covalent Bond Formation\n",
    "\n",
    "Electron orbitals have specific geometries because they interfere with one another when they come into contact. \n",
    "\n",
    "There are bonding pairs and lone pairs of electrons (filled subshells not involved in bonding). Lone pairs occupy more space and are less shielded due to their closer relative proximity to the nucleus, exerting repulsive forces on bonding pairs that result in regular geometric arrangements. [Valence Shell Electron Pair Repulsion theory](https://en.wikipedia.org/wiki/VSEPR_theory) (VSEPR) theory predicts specific bond angles and arrangements from their correlation with electron configuration.\n",
    "\n",
    "Table of common configurations and bond angles: \n",
    "| Electron Pairs (Bonding + Lone) | Molecular Geometry   | Bond Angles        | Example     |\n",
    "|----------------------------------|----------------------|--------------------|-------------|                             \n",
    "| 2 (2 + 0)                        | Linear               | 180°               | BeCl₂       |\n",
    "| 3 (3 + 0)                        | Trigonal Planar      | 120°               | BF₃         |\n",
    "| 4 (4 + 0)                        | Tetrahedral          | 109.5°             | CH₄         |\n",
    "| 4 (3 + 1)                        | Trigonal Pyramidal   | ~107°              | NH₃         |\n",
    "| 4 (2 + 2)                        | Bent                 | ~104.5°            | H₂O         |\n",
    "| 5 (5 + 0)                        | Trigonal Bipyramidal | 90°, 120°, 180°    | PCl₅        |\n",
    "| 5 (4 + 1)                        | Seesaw               | <90°, <120°, <180° | SF₄         |\n",
    "| 5 (3 + 2)                        | T-Shaped             | ~90°, ~180°        | ClF₃        |\n",
    "| 6 (6 + 0)                        | Octahedral           | 90°                | SF₆         |\n",
    "| 6 (5 + 1)                        | Square Pyramidal     | ~90°               | BrF₅        |\n",
    "| 6 (4 + 2)                        | Square Planar        | 90°                | XeF₄        |\n"
   ]
  },
  {
   "cell_type": "markdown",
   "id": "a9f15ad5-7973-47ef-a5a4-156e903af1c5",
   "metadata": {},
   "source": [
    "### The Morse Potential Describes Bond Energy as a Function of Atomic Distance\n",
    "\n",
    "Simple example: Hydrogen has a $1s^{1}$ electron configuration in the ground state. When two hydrogens form hydride (H$_2$), each hydrogen takes on the electron configuration of Helium ($1s^2$). \n",
    "\n",
    "To model the bond energy as a function of interatomic distance for the hydride molecule, we can use a relation called the [Morse potential](https://en.wikipedia.org/wiki/Morse_potential). There are other models for this, but this one works well for covalent bonds. For ionic bonds, further research into the [Lennard-Jones Potential](https://en.wikipedia.org/wiki/Lennard-Jones_potential) is encouraged. \n",
    "\n",
    "The Morse Potential $ U(r) (Joules)$ can be written:\n",
    "\n",
    "$$ U(r) = D_{e}[1-e^{-\\alpha(r-r_e)}]^{2}-D_{e}$$\n"
   ]
  },
  {
   "cell_type": "markdown",
   "id": "36fe6d3f-1140-4b1f-ad9e-922bd5af682e",
   "metadata": {},
   "source": [
    "### How to Sight Read the Equation: \n",
    "\n",
    "$$ U(r) = D_{e}[1-e^{-\\alpha(r-r_e)}]^{2}-D_{e} $$\n",
    "\n",
    "**Understanding the Components**:\n",
    "\n",
    "1. Potential Energy Function: \n",
    "   - $ U(r) $ represents the potential energy as a function of the distance $ r $.\n",
    "   - Note: Energy has two main forms:\n",
    "       - `potential energy` is implied by an objects position. An object sitting on a hill has potential energy to roll down the hill.\n",
    "       - A `positive` potential energy requires energy input to occur spontaneously, a `negative` potential energy will lose (dissipate) energy as it occurs spontaneously.\n",
    "       - `kinetic energy` is the energy that depends on an objects motion, or the rate of change of momentum (the sum of the force moments that describe the object's trajectory). \n",
    "\n",
    "2. Bond Dissociation Energy:\n",
    "   - $ D_e $ is the bond dissociation energy, indicating the depth of the energy well.\n",
    "\n",
    "3. Bond Equilibrium Distance:\n",
    "   - $ r_e $ is the bond equilibrium distance, the distance at which the potential energy is at a minimum.\n",
    "\n",
    "4. Width Parameter:\n",
    "   - $ \\alpha $ is a parameter related to the width of the potential energy well, affecting how steeply the potential energy changes with distance.\n",
    "\n",
    "Sight Reading Steps\n",
    "1. Recognize the Structure:\n",
    "   - The equation can be broken down into two main parts: $ D_{e}[1-e^{-\\alpha(r-r_e)}]^{2} $ and $ -D_{e} $.\n",
    "\n",
    "2. Parse the Exponential Term:\n",
    "   - $ e^{-\\alpha(r-r_e)} $:\n",
    "     - Exponential function with an argument $ -\\alpha(r-r_e) $.\n",
    "     - $ \\alpha $ scales the distance difference $ (r-r_e) $, affecting how quickly the potential changes.\n",
    "\n",
    "3. Understand the Inner Bracket:\n",
    "   - $ 1 - e^{-\\alpha(r-r_e)} $:\n",
    "     - Subtracts the exponential term from 1, representing a deviation from equilibrium.\n",
    "\n",
    "4. Square the Bracket:\n",
    "   - $ [1 - e^{-\\alpha(r-r_e)}]^{2} $\n",
    "     - Squaring this term ensures that the potential energy function is non-negative and has a quadratic dependency on the deviation.\n",
    "\n",
    "5. Multiply by $ D_{e} $:\n",
    "   - $ D_{e}[1 - e^{-\\alpha(r-r_e)}]^{2} $\n",
    "     - Scales the entire expression by the bond dissociation energy, setting the depth of the potential energy well.\n",
    "\n",
    "6. Subtract $ D_{e} $:\n",
    "   - $ D_{e}[1 - e^{-\\alpha(r-r_e)}]^{2} - D_{e} $\n",
    "     - Shifts the entire potential energy curve downward by $ D_{e} $, ensuring that $ U(r) = 0 $ at $ r = \\infty $.\n",
    "\n",
    "Interpretation\n",
    "- The function $ U(r) $ describes a potential energy curve where:\n",
    "  - The energy is at a minimum (most stable) at the equilibrium distance $ r_e $.\n",
    "  - The depth of the energy well is given by $ D_{e} $.\n",
    "  - The width and steepness of the well are controlled by $ \\alpha $."
   ]
  },
  {
   "cell_type": "code",
   "execution_count": 93,
   "id": "0e25545c-79d8-4a42-80b0-8bbc63f4b566",
   "metadata": {},
   "outputs": [
    {
     "data": {
      "image/png": "[encoded data removed]",
      "text/plain": [
       "<Figure size 400x300 with 1 Axes>"
      ]
     },
     "metadata": {},
     "output_type": "display_data"
    }
   ],
   "source": [
    "import numpy as np\n",
    "import matplotlib.pyplot as plt\n",
    "\n",
    "def morse_potential(r, D_e, a, r_e):\n",
    "    \"\"\"\n",
    "    Parameters:\n",
    "        r (numpy array): Array of distances (in meters).\n",
    "        D_e (float): Bond dissociation energy (in joules).\n",
    "        a (float): Width parameter of the potential well (in 1/meters).\n",
    "        r_e (float): Equilibrium bond distance (in meters).\n",
    "    \n",
    "    Returns:\n",
    "        U (numpy array): Morse potential energy (in joules).\n",
    "    \"\"\"\n",
    "    return D_e * (1 - np.exp(-a * (r - r_e)))**2 - D_e\n",
    "\n",
    "# Constants for H2 molecule (hydrogen molecule)\n",
    "D_e = 4.52e-19  # Bond dissociation energy in joules (approximately 436 kJ/mol)\n",
    "r_e = 74e-12    # Equilibrium bond distance in meters (74 pm)\n",
    "a = 4e10      # Width parameter in 1/meters (approximate value)\n",
    "\n",
    "# Generate an array of distances from 50 pm to 150 pm\n",
    "r = np.linspace(50e-12, 150e-12, 500)\n",
    "\n",
    "# Calculate the Morse potential energy for these distances\n",
    "U = morse_potential(r, D_e, a, r_e)\n",
    "\n",
    "# Plot the potential energy as a function of distance\n",
    "plt.figure(figsize=(4, 3))\n",
    "plt.plot(r * 1e12, U * 1e19, label='Morse Potential (H₂)')\n",
    "plt.axhline(0, color='gray', linestyle='--')\n",
    "plt.axvline(r_e * 1e12, color='red', linestyle='--', label=f'Equilibrium Distance = {r_e * 1e12:.0f} pm')\n",
    "plt.xlabel('Distance (pm)')\n",
    "plt.ylabel('Potential Energy (x10⁻¹⁹ J)')\n",
    "plt.title('Morse Potential for H₂ Molecule')\n",
    "plt.legend()\n",
    "plt.grid(True)\n",
    "plt.show()\n"
   ]
  },
  {
   "cell_type": "markdown",
   "id": "5a643c88-8592-4e50-b090-a78ce41769b1",
   "metadata": {},
   "source": [
    "### Q11: Describe the extreme behavior of the bond energy (i.e., as the interatomic distance approaches 0 and $\\infty$ picometers (pm) respectively. \n",
    "\n",
    "Your answer here..."
   ]
  },
  {
   "cell_type": "markdown",
   "id": "eddcbd41-f6ad-4f3c-8368-bf15d047e833",
   "metadata": {},
   "source": [
    "### Q12: Use the trends in the Morse potential plot to explain why the hydrogen atoms don't crash into one another. \n",
    " \n",
    "Your answer here.."
   ]
  },
  {
   "cell_type": "markdown",
   "id": "b21f74aa-0ad7-4551-80f2-09eb0b568418",
   "metadata": {},
   "source": [
    "### Q13: Approximately how close (in pm) do two hydrogen atoms need to be to form a covalent bond? \n",
    " \n",
    "Your answer here.."
   ]
  },
  {
   "cell_type": "markdown",
   "id": "ba612f90-a2ba-4318-9d1c-b66c7850ad57",
   "metadata": {},
   "source": [
    "### Q14: The bond distance, under these conditions, is 74 pm. The atomic radius of a hydrogen is 54 pm. What is the total length of a hydride atom at its widest dimension?\n",
    "\n",
    "Your answer here..."
   ]
  },
  {
   "cell_type": "markdown",
   "id": "ee7474dd-f78c-439f-84ba-8a6577e050e5",
   "metadata": {},
   "source": [
    "### Q15: If you increased the temperature of the reaction mixture, what do you predict would happen to the value of the equilibrium bond distance $r_e$? \n",
    "\n",
    "Your Answer Here.."
   ]
  }
 ],
 "metadata": {
  "kernelspec": {
   "display_name": "Python 3 (ipykernel)",
   "language": "python",
   "name": "python3"
  },
  "language_info": {
   "codemirror_mode": {
    "name": "ipython",
    "version": 3
   },
   "file_extension": ".py",
   "mimetype": "text/x-python",
   "name": "python",
   "nbconvert_exporter": "python",
   "pygments_lexer": "ipython3",
   "version": "3.9.18"
  }
 },
 "nbformat": 4,
 "nbformat_minor": 5
}
