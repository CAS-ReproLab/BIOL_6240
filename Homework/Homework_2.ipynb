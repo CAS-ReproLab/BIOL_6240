{
 "cells": [
  {
   "cell_type": "markdown",
   "id": "9950e922-a830-4ed8-bb24-5bd74704430b",
   "metadata": {},
   "source": []
  },
  {
   "cell_type": "markdown",
   "id": "223c96a3-3ea3-4d99-9160-4ab707304408",
   "metadata": {},
   "source": [
    "# Homework #2: Chemical Reactions and Thermodyanmics of Closed Systems \n",
    "BIOL 6240 Fall 2024"
   ]
  },
  {
   "cell_type": "markdown",
   "id": "52b9764a-4c25-4355-b233-cda0988364af",
   "metadata": {},
   "source": [
    "Section 1: Chemical Reactions and Mass Action\n",
    "\n"
   ]
  }
 ],
 "metadata": {
  "kernelspec": {
   "display_name": "Python 3 (ipykernel)",
   "language": "python",
   "name": "python3"
  },
  "language_info": {
   "codemirror_mode": {
    "name": "ipython",
    "version": 3
   },
   "file_extension": ".py",
   "mimetype": "text/x-python",
   "name": "python",
   "nbconvert_exporter": "python",
   "pygments_lexer": "ipython3",
   "version": "3.9.18"
  }
 },
 "nbformat": 4,
 "nbformat_minor": 5
}
