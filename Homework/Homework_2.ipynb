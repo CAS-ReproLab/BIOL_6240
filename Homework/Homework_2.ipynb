{
 "cells": [
  {
   "cell_type": "markdown",
   "id": "9950e922-a830-4ed8-bb24-5bd74704430b",
   "metadata": {},
   "source": []
  },
  {
   "cell_type": "markdown",
   "id": "223c96a3-3ea3-4d99-9160-4ab707304408",
   "metadata": {},
   "source": [
    "# Homework #2: The Formation of Bonds and The Law of Mass Action\n",
    "BIOL 6240 Fall 2024"
   ]
  },
  {
   "cell_type": "markdown",
   "id": "ce8aab45-55aa-40c3-a267-2f529c5f0d31",
   "metadata": {},
   "source": [
    "## Section 1: Covalent Bond Formation\n",
    "\n",
    "Electron orbitals have specific geometries because they interfere with one another when they come into contact. \n",
    "\n",
    "There are bonding pairs and lone pairs of electrons (filled subshells not involved in bonding). Lone pairs occupy more space and are less shielded due to their closer relative proximity to the nucleus, exerting repulsive forces on bonding pairs that result in regular geometric arrangements. [Valence Shell Electron Pair Repulsion theory](https://en.wikipedia.org/wiki/VSEPR_theory) (VSEPR) theory predicts specific bond angles and arrangements from their correlation with electron configuration.\n",
    "\n",
    "Table of common configurations and bond angles: \n",
    "| Electron Pairs (Bonding + Lone) | Molecular Geometry   | Bond Angles        | Example     |\n",
    "|----------------------------------|----------------------|--------------------|-------------|                             \n",
    "| 2 (2 + 0)                        | Linear               | 180°               | BeCl₂       |\n",
    "| 3 (3 + 0)                        | Trigonal Planar      | 120°               | BF₃         |\n",
    "| 4 (4 + 0)                        | Tetrahedral          | 109.5°             | CH₄         |\n",
    "| 4 (3 + 1)                        | Trigonal Pyramidal   | ~107°              | NH₃         |\n",
    "| 4 (2 + 2)                        | Bent                 | ~104.5°            | H₂O         |\n",
    "| 5 (5 + 0)                        | Trigonal Bipyramidal | 90°, 120°, 180°    | PCl₅        |\n",
    "| 5 (4 + 1)                        | Seesaw               | <90°, <120°, <180° | SF₄         |\n",
    "| 5 (3 + 2)                        | T-Shaped             | ~90°, ~180°        | ClF₃        |\n",
    "| 6 (6 + 0)                        | Octahedral           | 90°                | SF₆         |\n",
    "| 6 (5 + 1)                        | Square Pyramidal     | ~90°               | BrF₅        |\n",
    "| 6 (4 + 2)                        | Square Planar        | 90°                | XeF₄        |\n"
   ]
  },
  {
   "cell_type": "markdown",
   "id": "8d47cbc9-6e85-4070-8c99-897abfe7a1dc",
   "metadata": {},
   "source": [
    "### The Morse Potential Describes Bond Energy as a Function of Atomic Distance\n",
    "\n",
    "Simple example: Hydrogen has a $1s^{1}$ electron configuration in the ground state. When two hydrogens form hydride (H$_2$), each hydrogen takes on the electron configuration of Helium ($1s^2$). \n",
    "\n",
    "To model the bond energy as a function of interatomic distance for the hydride molecule, we can use a relation called the [Morse potential](https://en.wikipedia.org/wiki/Morse_potential). There are other models for this, but this one works well for covalent bonds. For ionic bonds, further research into the [Lennard-Jones Potential](https://en.wikipedia.org/wiki/Lennard-Jones_potential) is encouraged. \n",
    "\n",
    "The Morse Potential $ U(r) (Joules)$ can be written:\n",
    "\n",
    "$$ U(r) = D_{e}[1-e^{-\\alpha(r-r_e)}]^{2}-D_{e}$$\n"
   ]
  },
  {
   "cell_type": "markdown",
   "id": "0df9f891-91ab-43c5-9b5f-6b65fc8f045e",
   "metadata": {},
   "source": [
    "### How to Sight Read the Equation: \n",
    "\n",
    "$$ U(r) = D_{e}[1-e^{-\\alpha(r-r_e)}]^{2}-D_{e} $$\n",
    "\n",
    "**Understanding the Components**:\n",
    "\n",
    "1. Potential Energy Function: \n",
    "   - $ U(r) $ represents the potential energy as a function of the distance $ r $.\n",
    "   - Note: Energy has two main forms:\n",
    "       - `potential energy` is implied by an objects position. An object sitting on a hill has potential energy to roll down the hill.\n",
    "       - A `positive` potential energy requires energy input to occur spontaneously, a `negative` potential energy will lose (dissipate) energy as it occurs spontaneously.\n",
    "       - `kinetic energy` is the energy that depends on an objects motion, or the rate of change of momentum (the sum of the force moments that describe the object's trajectory). \n",
    "\n",
    "2. Bond Dissociation Energy:\n",
    "   - $ D_e $ is the bond dissociation energy, indicating the depth of the energy well.\n",
    "\n",
    "3. Bond Equilibrium Distance:\n",
    "   - $ r_e $ is the bond equilibrium distance, the distance at which the potential energy is at a minimum.\n",
    "\n",
    "4. Width Parameter:\n",
    "   - $ \\alpha $ is a parameter related to the width of the potential energy well, affecting how steeply the potential energy changes with distance.\n",
    "\n",
    "Sight Reading Steps\n",
    "1. Recognize the Structure:\n",
    "   - The equation can be broken down into two main parts: $ D_{e}[1-e^{-\\alpha(r-r_e)}]^{2} $ and $ -D_{e} $.\n",
    "\n",
    "2. Parse the Exponential Term:\n",
    "   - $ e^{-\\alpha(r-r_e)} $:\n",
    "     - Exponential function with an argument $ -\\alpha(r-r_e) $.\n",
    "     - $ \\alpha $ scales the distance difference $ (r-r_e) $, affecting how quickly the potential changes.\n",
    "\n",
    "3. Understand the Inner Bracket:\n",
    "   - $ 1 - e^{-\\alpha(r-r_e)} $:\n",
    "     - Subtracts the exponential term from 1, representing a deviation from equilibrium.\n",
    "\n",
    "4. Square the Bracket:\n",
    "   - $ [1 - e^{-\\alpha(r-r_e)}]^{2} $\n",
    "     - Squaring this term ensures that the potential energy function is non-negative and has a quadratic dependency on the deviation.\n",
    "\n",
    "5. Multiply by $ D_{e} $:\n",
    "   - $ D_{e}[1 - e^{-\\alpha(r-r_e)}]^{2} $\n",
    "     - Scales the entire expression by the bond dissociation energy, setting the depth of the potential energy well.\n",
    "\n",
    "6. Subtract $ D_{e} $:\n",
    "   - $ D_{e}[1 - e^{-\\alpha(r-r_e)}]^{2} - D_{e} $\n",
    "     - Shifts the entire potential energy curve downward by $ D_{e} $, ensuring that $ U(r) = 0 $ at $ r = \\infty $.\n",
    "\n",
    "Interpretation\n",
    "- The function $ U(r) $ describes a potential energy curve where:\n",
    "  - The energy is at a minimum (most stable) at the equilibrium distance $ r_e $.\n",
    "  - The depth of the energy well is given by $ D_{e} $.\n",
    "  - The width and steepness of the well are controlled by $ \\alpha $."
   ]
  },
  {
   "cell_type": "code",
   "execution_count": 1,
   "id": "5f43f024-6cdf-4544-9a22-cf150ce225e7",
   "metadata": {},
   "outputs": [
    {
     "data": {
      "image/png": "[encoded data removed]",
      "text/plain": [
       "<Figure size 400x300 with 1 Axes>"
      ]
     },
     "metadata": {},
     "output_type": "display_data"
    }
   ],
   "source": [
    "import numpy as np\n",
    "import matplotlib.pyplot as plt\n",
    "\n",
    "def morse_potential(r, D_e, a, r_e):\n",
    "    \"\"\"\n",
    "    Parameters:\n",
    "        r (numpy array): Array of distances (in meters).\n",
    "        D_e (float): Bond dissociation energy (in joules).\n",
    "        a (float): Width parameter of the potential well (in 1/meters).\n",
    "        r_e (float): Equilibrium bond distance (in meters).\n",
    "    \n",
    "    Returns:\n",
    "        U (numpy array): Morse potential energy (in joules).\n",
    "    \"\"\"\n",
    "    return D_e * (1 - np.exp(-a * (r - r_e)))**2 - D_e\n",
    "\n",
    "# Constants for H2 molecule (hydrogen molecule)\n",
    "D_e = 4.52e-19  # Bond dissociation energy in joules (approximately 436 kJ/mol)\n",
    "r_e = 74e-12    # Equilibrium bond distance in meters (74 pm)\n",
    "a = 4e10      # Width parameter in 1/meters (approximate value)\n",
    "\n",
    "# Generate an array of distances from 50 pm to 150 pm\n",
    "r = np.linspace(50e-12, 150e-12, 500)\n",
    "\n",
    "# Calculate the Morse potential energy for these distances\n",
    "U = morse_potential(r, D_e, a, r_e)\n",
    "\n",
    "# Plot the potential energy as a function of distance\n",
    "plt.figure(figsize=(4, 3))\n",
    "plt.plot(r * 1e12, U * 1e19, label='Morse Potential (H₂)')\n",
    "plt.axhline(0, color='gray', linestyle='--')\n",
    "plt.axvline(r_e * 1e12, color='red', linestyle='--', label=f'Equilibrium Distance = {r_e * 1e12:.0f} pm')\n",
    "plt.xlabel('Distance (pm)')\n",
    "plt.ylabel('Potential Energy (x10⁻¹⁹ J)')\n",
    "plt.title('Morse Potential for H₂ Molecule')\n",
    "plt.legend()\n",
    "plt.grid(True)\n",
    "plt.show()\n"
   ]
  },
  {
   "cell_type": "markdown",
   "id": "4f258228-0e29-4cfa-bf3e-52ad65981d9b",
   "metadata": {},
   "source": [
    "### Q11: Describe the extreme behavior of the bond energy (i.e., as the interatomic distance approaches 0 and $\\infty$ picometers (pm) respectively. \n",
    "\n",
    "Your answer here..."
   ]
  },
  {
   "cell_type": "markdown",
   "id": "1ff235c3-e3c2-42c5-a596-457840c78ee9",
   "metadata": {},
   "source": [
    "### Q12: Use the trends in the Morse potential plot to explain why the hydrogen atoms don't crash into one another. \n",
    " \n",
    "Your answer here.."
   ]
  },
  {
   "cell_type": "markdown",
   "id": "9ea7d81f-7348-44a4-ae0c-9d944c90414c",
   "metadata": {},
   "source": [
    "### Q13: Approximately how close (in pm) do two hydrogen atoms need to be to form a covalent bond? \n",
    " \n",
    "Your answer here.."
   ]
  },
  {
   "cell_type": "markdown",
   "id": "d7deddf4-011d-491d-804b-72fe8c7cd984",
   "metadata": {},
   "source": [
    "### Q14: The bond distance, under these conditions, is 74 pm. The atomic radius of a hydrogen is 54 pm. What is the total length of a hydride atom at its widest dimension?\n",
    "\n",
    "Your answer here..."
   ]
  },
  {
   "cell_type": "markdown",
   "id": "6bb3a3e9-f248-4920-88e7-c3f35cb16bb2",
   "metadata": {},
   "source": [
    "### Q15: If you increased the temperature of the reaction mixture, what do you predict would happen to the value of the equilibrium bond distance $r_e$? \n",
    "\n",
    "Your Answer Here.."
   ]
  }
 ],
 "metadata": {
  "kernelspec": {
   "display_name": "Python 3 (ipykernel)",
   "language": "python",
   "name": "python3"
  },
  "language_info": {
   "codemirror_mode": {
    "name": "ipython",
    "version": 3
   },
   "file_extension": ".py",
   "mimetype": "text/x-python",
   "name": "python",
   "nbconvert_exporter": "python",
   "pygments_lexer": "ipython3",
   "version": "3.9.18"
  }
 },
 "nbformat": 4,
 "nbformat_minor": 5
}
